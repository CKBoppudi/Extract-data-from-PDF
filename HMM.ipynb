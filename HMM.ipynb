{
 "cells": [
  {
   "cell_type": "markdown",
   "id": "b978ae97",
   "metadata": {},
   "source": [
    "# HMM"
   ]
  },
  {
   "cell_type": "code",
   "execution_count": 4,
   "id": "03d7a15c",
   "metadata": {},
   "outputs": [],
   "source": [
    "import pdfplumber\n",
    "import regex as re"
   ]
  },
  {
   "cell_type": "code",
   "execution_count": 5,
   "id": "a7e0c4f0",
   "metadata": {},
   "outputs": [],
   "source": [
    "data = pdfplumber.open(r\"C:\\Users\\DELL\\Desktop\\Pyplumber\\HDMUSHAZ23417800.pdf\")"
   ]
  },
  {
   "cell_type": "code",
   "execution_count": 6,
   "id": "aa5e7914",
   "metadata": {},
   "outputs": [
    {
     "data": {
      "text/plain": [
       "[<Page:1>, <Page:2>]"
      ]
     },
     "execution_count": 6,
     "metadata": {},
     "output_type": "execute_result"
    }
   ],
   "source": [
    "data.pages"
   ]
  },
  {
   "cell_type": "code",
   "execution_count": 7,
   "id": "1c43842c",
   "metadata": {},
   "outputs": [
    {
     "name": "stdout",
     "output_type": "stream",
     "text": [
      "BILL OF LADING\n",
      "NON-NEGOTIABLE COPY\n",
      "Shipper/Exporter(complete name and address) Booking No. B/L No. HDMU\n",
      "ZHEJIANG KENTE CATALYSTS SHAZ23417800 SHAZ23417800\n",
      "TECHNOLOGIES CO., LTD\n",
      "RM C-1007, NO.198, QIDI RD,\n",
      "XIAOSHAN-311200, Export References\n",
      "HANGZHOU, CHINA\n",
      "Consignee(complete name and address) Forwarding Agent References\n",
      "DECCAN FINE CHEMICALS\n",
      "(INDIA) PVT LTD\n",
      "PLOT NO.3501 TO 3515, 6301\n",
      "TO 6313 & 16MTR ROAD/B1 &\n",
      "PLOT NO.6008 TO 6010,**\n",
      "Point and Country of Origin\n",
      "Notify Party(complete name and address) Also Notify / Domestic Routing / Export Instructions\n",
      "R S ASSOCIATES,\n",
      "OFFICE NO.F-1A-73,HAWARE\n",
      "CENTURION COMPLEX,PLOT\n",
      "NO.88-91, SECTOR 19A,\n",
      "OPPN.SEAWOOD RAILWAY STN,***\n",
      "Pre-Carriage by Place of Receipt * Port of Discharge\n",
      "SHANGHAI NHAVA SHEVA\n",
      "Ocean Vessel / Voyage / Flag Port of Loading Place of Delivery *\n",
      "HYUNDAI HONGKONG V 0138W SHANGHAI NHAVA SHEVA\n",
      "Onward Inland RoutingOnward Inland Routing For Transshipment to Final Destination(For the Merchants Ref.)\n",
      "PARTICULARS FURNISHED BY SHIPPER\n",
      "Container No./Seal No. No.of Containers Description of Packages and Goods Gross Weight Measurement\n",
      "Marks and Numbers or Other Pkgs\n",
      "N/M \"SHIPPER'S LOAD,COUNT,SEALED &  WEIGHT S.T.C.\" 16,760.000 28.0000\n",
      "1 X 20' DC CONTAINER KGS CBM\n",
      "80 DRUMS\n",
      "TETRABUTYLAMMONIUM HYDROXIDE\n",
      "40% IN WATER\n",
      "CLASS:8 UN:3267\n",
      "HS CODE 2923900090\n",
      "**G.I.D.C INDUSTRIAL ESTATE,\n",
      "ANKLESHWAR -393002.\n",
      "=FREIGHT PREPAID =\n",
      "PH.NO. 02646-661131.\n",
      "IMPORTER'S GSTIN: CY / CY\n",
      "24AACCD9205D1Z4\n",
      "IMPORTER'S IEC: 4608000071\n",
      "IMPORTER'S EMAIL ID :\n",
      "TEMU4340447 / 212581235 DC 20 CY / CY\n",
      "Total Number of Containers or Packages( in words) ONE(1) CONTAINER ONLY\n",
      "Freight & Charges Rate Unit Prepaid Collect\n",
      "FREIGHT ALL AS ARRANGED\n",
      "Rate Applicability Date : 2022-09-12\n",
      "Declared Value (PACKAGE LIMITATION CLAUSE)\n",
      "(Optional ) :US $ SAcetc-t1io9n36 4: .N(5e)i tohfe rU t.hSe.  cCaarrrrieiarg neo ro ft hGeo sohdisp  sbhya Slle ian Total Charge\n",
      "any event be or become liable for any loss or\n",
      "damage to or in connectin with the transportation of goods in an amount deaxcmeaegdeing $500 per package lawful money of the Number of Original B(s) / L On Board Date\n",
      "Ucunrirteendc Sy,t autnelse,s osr  tihne c naasteu roef  agnodo dvsa lnuoet  osfh sipupcehd g iono pdasc hkaavgee sb,e peenr  dceucsltaormeda rbyy f rtehieg hsth uipnpite or rb tehfeo reeq suhivipamleennt to af nthda itn sseurmte idn  iont htheer THREE(3) SEP. 20, 2022\n",
      "Bill of Lading and additional freight has been paid as required. This declaration, if embodied in the Bill of Lading, shall be\n",
      "prima facie evidence, but shall not be conclusive on the carrier. THIS CLAUSE SHALL APPLY ONLY TO GOODS MOVING TO (OBD:SEPTEMBER TWENTIETH, 2022)\n",
      "OR FROM PORTS OF UNITED STATES.\n",
      "IN ACCEPTING THIS BILL OF LADING, the shipper, owner and consignee of the goods, and the holder of the Bill of lading Dated at SHANGHAI,CHINA SEP. 20,2022\n",
      "expressly  accept and agree to all its stipulations, exceptions and conditions, whether written, stamped. or printed, as fully as if\n",
      "signed by such shipper, owner, consignee and/or holder. No agent is authorized to waive any of the provisions of the clauses. HMM CO., LTD. AS CARRIER\n",
      "IN WITNESS WHEREOF, the master of agent of the said ship has affirmed to Bill of Loading, all of this tenor and date. ONE of\n",
      "which being accomplished, the others to stand void.\n",
      "By\n",
      "* Applicable only when this document is used as an intermodal transport Bill of Lading\n",
      "Page 1 of 2\n",
      "HDMU\n",
      "SHAZ23417800\n",
      "IMPORTS.TUNI@DECCANCHEMICALS.COM\n",
      "PAN NO.: AACCD9205D\n",
      "***NERUL,NAVI MUMBAI - 400 706.\n",
      "MOB : +91-9324626238 /\n",
      "+ 91-8369920704\n",
      "TRADE REGISTER NUMBER\n",
      "OF R S ASSOCIATES IS\n",
      "AAEFR6260MCH002\n",
      "PRABHAKAR@RSAS.IN &\n",
      "IMPORTS@RSAS.IN\n",
      "SARITHA.LAKADBOINA@\n",
      "DECCANCHEMICALS.COM\n",
      "IMPORTER'S IEC:4608000071\n",
      "IMPORTER'S GST NO:24AACCD9205D1Z4\n",
      "IMPORTER'S EMAIL\n",
      "ADDRESS:IMPORTS.TUNI@DECCANCHEMICALS.COM\n",
      "Page 2 of 2\n"
     ]
    }
   ],
   "source": [
    "for i in data.pages:\n",
    "    print(i.extract_text())"
   ]
  },
  {
   "cell_type": "code",
   "execution_count": 8,
   "id": "4161e273",
   "metadata": {},
   "outputs": [
    {
     "name": "stdout",
     "output_type": "stream",
     "text": [
      "BILL OF LADING\n",
      "NON-NEGOTIABLE COPY\n",
      "Shipper/Exporter(complete name and address) Booking No. B/L No. HDMU\n",
      "ZHEJIANG KENTE CATALYSTS SHAZ23417800 SHAZ23417800\n",
      "TECHNOLOGIES CO., LTD\n",
      "RM C-1007, NO.198, QIDI RD,\n",
      "XIAOSHAN-311200, Export References\n",
      "HANGZHOU, CHINA\n",
      "Consignee(complete name and address) Forwarding Agent References\n",
      "DECCAN FINE CHEMICALS\n",
      "(INDIA) PVT LTD\n",
      "PLOT NO.3501 TO 3515, 6301\n",
      "TO 6313 & 16MTR ROAD/B1 &\n",
      "PLOT NO.6008 TO 6010,**\n",
      "Point and Country of Origin\n",
      "Notify Party(complete name and address) Also Notify / Domestic Routing / Export Instructions\n",
      "R S ASSOCIATES,\n",
      "OFFICE NO.F-1A-73,HAWARE\n",
      "CENTURION COMPLEX,PLOT\n",
      "NO.88-91, SECTOR 19A,\n",
      "OPPN.SEAWOOD RAILWAY STN,***\n",
      "Pre-Carriage by Place of Receipt * Port of Discharge\n",
      "SHANGHAI NHAVA SHEVA\n",
      "Ocean Vessel / Voyage / Flag Port of Loading Place of Delivery *\n",
      "HYUNDAI HONGKONG V 0138W SHANGHAI NHAVA SHEVA\n",
      "Onward Inland RoutingOnward Inland Routing For Transshipment to Final Destination(For the Merchants Ref.)\n",
      "PARTICULARS FURNISHED BY SHIPPER\n",
      "Container No./Seal No. No.of Containers Description of Packages and Goods Gross Weight Measurement\n",
      "Marks and Numbers or Other Pkgs\n",
      "N/M \"SHIPPER'S LOAD,COUNT,SEALED &  WEIGHT S.T.C.\" 16,760.000 28.0000\n",
      "1 X 20' DC CONTAINER KGS CBM\n",
      "80 DRUMS\n",
      "TETRABUTYLAMMONIUM HYDROXIDE\n",
      "40% IN WATER\n",
      "CLASS:8 UN:3267\n",
      "HS CODE 2923900090\n",
      "**G.I.D.C INDUSTRIAL ESTATE,\n",
      "ANKLESHWAR -393002.\n",
      "=FREIGHT PREPAID =\n",
      "PH.NO. 02646-661131.\n",
      "IMPORTER'S GSTIN: CY / CY\n",
      "24AACCD9205D1Z4\n",
      "IMPORTER'S IEC: 4608000071\n",
      "IMPORTER'S EMAIL ID :\n",
      "TEMU4340447 / 212581235 DC 20 CY / CY\n",
      "Total Number of Containers or Packages( in words) ONE(1) CONTAINER ONLY\n",
      "Freight & Charges Rate Unit Prepaid Collect\n",
      "FREIGHT ALL AS ARRANGED\n",
      "Rate Applicability Date : 2022-09-12\n",
      "Declared Value (PACKAGE LIMITATION CLAUSE)\n",
      "(Optional ) :US $ SAcetc-t1io9n36 4: .N(5e)i tohfe rU t.hSe.  cCaarrrrieiarg neo ro ft hGeo sohdisp  sbhya Slle ian Total Charge\n",
      "any event be or become liable for any loss or\n",
      "damage to or in connectin with the transportation of goods in an amount deaxcmeaegdeing $500 per package lawful money of the Number of Original B(s) / L On Board Date\n",
      "Ucunrirteendc Sy,t autnelse,s osr  tihne c naasteu roef  agnodo dvsa lnuoet  osfh sipupcehd g iono pdasc hkaavgee sb,e peenr  dceucsltaormeda rbyy f rtehieg hsth uipnpite or rb tehfeo reeq suhivipamleennt to af nthda itn sseurmte idn  iont htheer THREE(3) SEP. 20, 2022\n",
      "Bill of Lading and additional freight has been paid as required. This declaration, if embodied in the Bill of Lading, shall be\n",
      "prima facie evidence, but shall not be conclusive on the carrier. THIS CLAUSE SHALL APPLY ONLY TO GOODS MOVING TO (OBD:SEPTEMBER TWENTIETH, 2022)\n",
      "OR FROM PORTS OF UNITED STATES.\n",
      "IN ACCEPTING THIS BILL OF LADING, the shipper, owner and consignee of the goods, and the holder of the Bill of lading Dated at SHANGHAI,CHINA SEP. 20,2022\n",
      "expressly  accept and agree to all its stipulations, exceptions and conditions, whether written, stamped. or printed, as fully as if\n",
      "signed by such shipper, owner, consignee and/or holder. No agent is authorized to waive any of the provisions of the clauses. HMM CO., LTD. AS CARRIER\n",
      "IN WITNESS WHEREOF, the master of agent of the said ship has affirmed to Bill of Loading, all of this tenor and date. ONE of\n",
      "which being accomplished, the others to stand void.\n",
      "By\n",
      "* Applicable only when this document is used as an intermodal transport Bill of Lading\n",
      "Page 1 of 2\n",
      "HDMU\n",
      "SHAZ23417800\n",
      "IMPORTS.TUNI@DECCANCHEMICALS.COM\n",
      "PAN NO.: AACCD9205D\n",
      "***NERUL,NAVI MUMBAI - 400 706.\n",
      "MOB : +91-9324626238 /\n",
      "+ 91-8369920704\n",
      "TRADE REGISTER NUMBER\n",
      "OF R S ASSOCIATES IS\n",
      "AAEFR6260MCH002\n",
      "PRABHAKAR@RSAS.IN &\n",
      "IMPORTS@RSAS.IN\n",
      "SARITHA.LAKADBOINA@\n",
      "DECCANCHEMICALS.COM\n",
      "IMPORTER'S IEC:4608000071\n",
      "IMPORTER'S GST NO:24AACCD9205D1Z4\n",
      "IMPORTER'S EMAIL\n",
      "ADDRESS:IMPORTS.TUNI@DECCANCHEMICALS.COM\n",
      "Page 2 of 2\n"
     ]
    }
   ],
   "source": [
    "s1 = \"\"\n",
    "for i in data.pages:\n",
    "    s1 = s1 + i.extract_text()\n",
    "    print(i.extract_text())"
   ]
  },
  {
   "cell_type": "code",
   "execution_count": 9,
   "id": "5e88ba42",
   "metadata": {},
   "outputs": [
    {
     "data": {
      "text/plain": [
       "['BILL OF LADING',\n",
       " 'NON-NEGOTIABLE COPY',\n",
       " 'Shipper/Exporter(complete name and address) Booking No. B/L No. HDMU',\n",
       " 'ZHEJIANG KENTE CATALYSTS SHAZ23417800 SHAZ23417800',\n",
       " 'TECHNOLOGIES CO., LTD',\n",
       " 'RM C-1007, NO.198, QIDI RD,',\n",
       " 'XIAOSHAN-311200, Export References',\n",
       " 'HANGZHOU, CHINA',\n",
       " 'Consignee(complete name and address) Forwarding Agent References',\n",
       " 'DECCAN FINE CHEMICALS',\n",
       " '(INDIA) PVT LTD',\n",
       " 'PLOT NO.3501 TO 3515, 6301',\n",
       " 'TO 6313 & 16MTR ROAD/B1 &',\n",
       " 'PLOT NO.6008 TO 6010,**',\n",
       " 'Point and Country of Origin',\n",
       " 'Notify Party(complete name and address) Also Notify / Domestic Routing / Export Instructions',\n",
       " 'R S ASSOCIATES,',\n",
       " 'OFFICE NO.F-1A-73,HAWARE',\n",
       " 'CENTURION COMPLEX,PLOT',\n",
       " 'NO.88-91, SECTOR 19A,',\n",
       " 'OPPN.SEAWOOD RAILWAY STN,***',\n",
       " 'Pre-Carriage by Place of Receipt * Port of Discharge',\n",
       " 'SHANGHAI NHAVA SHEVA',\n",
       " 'Ocean Vessel / Voyage / Flag Port of Loading Place of Delivery *',\n",
       " 'HYUNDAI HONGKONG V 0138W SHANGHAI NHAVA SHEVA',\n",
       " 'Onward Inland RoutingOnward Inland Routing For Transshipment to Final Destination(For the Merchants Ref.)',\n",
       " 'PARTICULARS FURNISHED BY SHIPPER',\n",
       " 'Container No./Seal No. No.of Containers Description of Packages and Goods Gross Weight Measurement',\n",
       " 'Marks and Numbers or Other Pkgs',\n",
       " 'N/M \"SHIPPER\\'S LOAD,COUNT,SEALED &  WEIGHT S.T.C.\" 16,760.000 28.0000',\n",
       " \"1 X 20' DC CONTAINER KGS CBM\",\n",
       " '80 DRUMS',\n",
       " 'TETRABUTYLAMMONIUM HYDROXIDE',\n",
       " '40% IN WATER',\n",
       " 'CLASS:8 UN:3267',\n",
       " 'HS CODE 2923900090',\n",
       " '**G.I.D.C INDUSTRIAL ESTATE,',\n",
       " 'ANKLESHWAR -393002.',\n",
       " '=FREIGHT PREPAID =',\n",
       " 'PH.NO. 02646-661131.',\n",
       " \"IMPORTER'S GSTIN: CY / CY\",\n",
       " '24AACCD9205D1Z4',\n",
       " \"IMPORTER'S IEC: 4608000071\",\n",
       " \"IMPORTER'S EMAIL ID :\",\n",
       " 'TEMU4340447 / 212581235 DC 20 CY / CY',\n",
       " 'Total Number of Containers or Packages( in words) ONE(1) CONTAINER ONLY',\n",
       " 'Freight & Charges Rate Unit Prepaid Collect',\n",
       " 'FREIGHT ALL AS ARRANGED',\n",
       " 'Rate Applicability Date : 2022-09-12',\n",
       " 'Declared Value (PACKAGE LIMITATION CLAUSE)',\n",
       " '(Optional ) :US $ SAcetc-t1io9n36 4: .N(5e)i tohfe rU t.hSe.  cCaarrrrieiarg neo ro ft hGeo sohdisp  sbhya Slle ian Total Charge',\n",
       " 'any event be or become liable for any loss or',\n",
       " 'damage to or in connectin with the transportation of goods in an amount deaxcmeaegdeing $500 per package lawful money of the Number of Original B(s) / L On Board Date',\n",
       " 'Ucunrirteendc Sy,t autnelse,s osr  tihne c naasteu roef  agnodo dvsa lnuoet  osfh sipupcehd g iono pdasc hkaavgee sb,e peenr  dceucsltaormeda rbyy f rtehieg hsth uipnpite or rb tehfeo reeq suhivipamleennt to af nthda itn sseurmte idn  iont htheer THREE(3) SEP. 20, 2022',\n",
       " 'Bill of Lading and additional freight has been paid as required. This declaration, if embodied in the Bill of Lading, shall be',\n",
       " 'prima facie evidence, but shall not be conclusive on the carrier. THIS CLAUSE SHALL APPLY ONLY TO GOODS MOVING TO (OBD:SEPTEMBER TWENTIETH, 2022)',\n",
       " 'OR FROM PORTS OF UNITED STATES.',\n",
       " 'IN ACCEPTING THIS BILL OF LADING, the shipper, owner and consignee of the goods, and the holder of the Bill of lading Dated at SHANGHAI,CHINA SEP. 20,2022',\n",
       " 'expressly  accept and agree to all its stipulations, exceptions and conditions, whether written, stamped. or printed, as fully as if',\n",
       " 'signed by such shipper, owner, consignee and/or holder. No agent is authorized to waive any of the provisions of the clauses. HMM CO., LTD. AS CARRIER',\n",
       " 'IN WITNESS WHEREOF, the master of agent of the said ship has affirmed to Bill of Loading, all of this tenor and date. ONE of',\n",
       " 'which being accomplished, the others to stand void.',\n",
       " 'By',\n",
       " '* Applicable only when this document is used as an intermodal transport Bill of Lading',\n",
       " 'Page 1 of 2HDMU',\n",
       " 'SHAZ23417800',\n",
       " 'IMPORTS.TUNI@DECCANCHEMICALS.COM',\n",
       " 'PAN NO.: AACCD9205D',\n",
       " '***NERUL,NAVI MUMBAI - 400 706.',\n",
       " 'MOB : +91-9324626238 /',\n",
       " '+ 91-8369920704',\n",
       " 'TRADE REGISTER NUMBER',\n",
       " 'OF R S ASSOCIATES IS',\n",
       " 'AAEFR6260MCH002',\n",
       " 'PRABHAKAR@RSAS.IN &',\n",
       " 'IMPORTS@RSAS.IN',\n",
       " 'SARITHA.LAKADBOINA@',\n",
       " 'DECCANCHEMICALS.COM',\n",
       " \"IMPORTER'S IEC:4608000071\",\n",
       " \"IMPORTER'S GST NO:24AACCD9205D1Z4\",\n",
       " \"IMPORTER'S EMAIL\",\n",
       " 'ADDRESS:IMPORTS.TUNI@DECCANCHEMICALS.COM',\n",
       " 'Page 2 of 2']"
      ]
     },
     "execution_count": 9,
     "metadata": {},
     "output_type": "execute_result"
    }
   ],
   "source": [
    "s1.split(\"\\n\")"
   ]
  },
  {
   "cell_type": "code",
   "execution_count": 10,
   "id": "95c87c7f",
   "metadata": {},
   "outputs": [],
   "source": [
    "s2 = []\n",
    "for i in s1.split(\"\\n\"):\n",
    "    if \"B/L No.\" in i:\n",
    "        s2.append(i)"
   ]
  },
  {
   "cell_type": "code",
   "execution_count": 11,
   "id": "fda361e4",
   "metadata": {},
   "outputs": [
    {
     "data": {
      "text/plain": [
       "['Shipper/Exporter(complete name and address) Booking No. B/L No. HDMU']"
      ]
     },
     "execution_count": 11,
     "metadata": {},
     "output_type": "execute_result"
    }
   ],
   "source": [
    "s2"
   ]
  },
  {
   "cell_type": "code",
   "execution_count": 12,
   "id": "77e80941",
   "metadata": {},
   "outputs": [
    {
     "name": "stdout",
     "output_type": "stream",
     "text": [
      "BILL OF LADING\n",
      "NON-NEGOTIABLE COPY\n",
      "Shipper/Exporter(complete name and address) Booking No. B/L No. HDMU\n",
      "ZHEJIANG KENTE CATALYSTS SHAZ23417800 SHAZ23417800\n",
      "TECHNOLOGIES CO., LTD\n",
      "RM C-1007, NO.198, QIDI RD,\n",
      "XIAOSHAN-311200, Export References\n",
      "HANGZHOU, CHINA\n",
      "Consignee(complete name and address) Forwarding Agent References\n",
      "DECCAN FINE CHEMICALS\n",
      "(INDIA) PVT LTD\n",
      "PLOT NO.3501 TO 3515, 6301\n",
      "TO 6313 & 16MTR ROAD/B1 &\n",
      "PLOT NO.6008 TO 6010,**\n",
      "Point and Country of Origin\n",
      "Notify Party(complete name and address) Also Notify / Domestic Routing / Export Instructions\n",
      "R S ASSOCIATES,\n",
      "OFFICE NO.F-1A-73,HAWARE\n",
      "CENTURION COMPLEX,PLOT\n",
      "NO.88-91, SECTOR 19A,\n",
      "OPPN.SEAWOOD RAILWAY STN,***\n",
      "Pre-Carriage by Place of Receipt * Port of Discharge\n",
      "SHANGHAI NHAVA SHEVA\n",
      "Ocean Vessel / Voyage / Flag Port of Loading Place of Delivery *\n",
      "HYUNDAI HONGKONG V 0138W SHANGHAI NHAVA SHEVA\n",
      "Onward Inland RoutingOnward Inland Routing For Transshipment to Final Destination(For the Merchants Ref.)\n",
      "PARTICULARS FURNISHED BY SHIPPER\n",
      "Container No./Seal No. No.of Containers Description of Packages and Goods Gross Weight Measurement\n",
      "Marks and Numbers or Other Pkgs\n",
      "N/M \"SHIPPER'S LOAD,COUNT,SEALED &  WEIGHT S.T.C.\" 16,760.000 28.0000\n",
      "1 X 20' DC CONTAINER KGS CBM\n",
      "80 DRUMS\n",
      "TETRABUTYLAMMONIUM HYDROXIDE\n",
      "40% IN WATER\n",
      "CLASS:8 UN:3267\n",
      "HS CODE 2923900090\n",
      "**G.I.D.C INDUSTRIAL ESTATE,\n",
      "ANKLESHWAR -393002.\n",
      "=FREIGHT PREPAID =\n",
      "PH.NO. 02646-661131.\n",
      "IMPORTER'S GSTIN: CY / CY\n",
      "24AACCD9205D1Z4\n",
      "IMPORTER'S IEC: 4608000071\n",
      "IMPORTER'S EMAIL ID :\n",
      "TEMU4340447 / 212581235 DC 20 CY / CY\n",
      "Total Number of Containers or Packages( in words) ONE(1) CONTAINER ONLY\n",
      "Freight & Charges Rate Unit Prepaid Collect\n",
      "FREIGHT ALL AS ARRANGED\n",
      "Rate Applicability Date : 2022-09-12\n",
      "Declared Value (PACKAGE LIMITATION CLAUSE)\n",
      "(Optional ) :US $ SAcetc-t1io9n36 4: .N(5e)i tohfe rU t.hSe.  cCaarrrrieiarg neo ro ft hGeo sohdisp  sbhya Slle ian Total Charge\n",
      "any event be or become liable for any loss or\n",
      "damage to or in connectin with the transportation of goods in an amount deaxcmeaegdeing $500 per package lawful money of the Number of Original B(s) / L On Board Date\n",
      "Ucunrirteendc Sy,t autnelse,s osr  tihne c naasteu roef  agnodo dvsa lnuoet  osfh sipupcehd g iono pdasc hkaavgee sb,e peenr  dceucsltaormeda rbyy f rtehieg hsth uipnpite or rb tehfeo reeq suhivipamleennt to af nthda itn sseurmte idn  iont htheer THREE(3) SEP. 20, 2022\n",
      "Bill of Lading and additional freight has been paid as required. This declaration, if embodied in the Bill of Lading, shall be\n",
      "prima facie evidence, but shall not be conclusive on the carrier. THIS CLAUSE SHALL APPLY ONLY TO GOODS MOVING TO (OBD:SEPTEMBER TWENTIETH, 2022)\n",
      "OR FROM PORTS OF UNITED STATES.\n",
      "IN ACCEPTING THIS BILL OF LADING, the shipper, owner and consignee of the goods, and the holder of the Bill of lading Dated at SHANGHAI,CHINA SEP. 20,2022\n",
      "expressly  accept and agree to all its stipulations, exceptions and conditions, whether written, stamped. or printed, as fully as if\n",
      "signed by such shipper, owner, consignee and/or holder. No agent is authorized to waive any of the provisions of the clauses. HMM CO., LTD. AS CARRIER\n",
      "IN WITNESS WHEREOF, the master of agent of the said ship has affirmed to Bill of Loading, all of this tenor and date. ONE of\n",
      "which being accomplished, the others to stand void.\n",
      "By\n",
      "* Applicable only when this document is used as an intermodal transport Bill of Lading\n",
      "Page 1 of 2HDMU\n",
      "SHAZ23417800\n",
      "IMPORTS.TUNI@DECCANCHEMICALS.COM\n",
      "PAN NO.: AACCD9205D\n",
      "***NERUL,NAVI MUMBAI - 400 706.\n",
      "MOB : +91-9324626238 /\n",
      "+ 91-8369920704\n",
      "TRADE REGISTER NUMBER\n",
      "OF R S ASSOCIATES IS\n",
      "AAEFR6260MCH002\n",
      "PRABHAKAR@RSAS.IN &\n",
      "IMPORTS@RSAS.IN\n",
      "SARITHA.LAKADBOINA@\n",
      "DECCANCHEMICALS.COM\n",
      "IMPORTER'S IEC:4608000071\n",
      "IMPORTER'S GST NO:24AACCD9205D1Z4\n",
      "IMPORTER'S EMAIL\n",
      "ADDRESS:IMPORTS.TUNI@DECCANCHEMICALS.COM\n",
      "Page 2 of 2\n"
     ]
    }
   ],
   "source": [
    "print(s1)"
   ]
  },
  {
   "cell_type": "markdown",
   "id": "cf9685a6",
   "metadata": {},
   "source": [
    "# B/L no."
   ]
  },
  {
   "cell_type": "code",
   "execution_count": 13,
   "id": "a4ae8ce6",
   "metadata": {},
   "outputs": [],
   "source": [
    "# B/L No. HDMU \n",
    "#     SHAZ23417800"
   ]
  },
  {
   "cell_type": "code",
   "execution_count": 14,
   "id": "9c74b4b8",
   "metadata": {},
   "outputs": [
    {
     "data": {
      "text/plain": [
       "['SHAZ23417800', 'SHAZ23417800', 'SHAZ23417800']"
      ]
     },
     "execution_count": 14,
     "metadata": {},
     "output_type": "execute_result"
    }
   ],
   "source": [
    "pattern_BL = \"[A-Z]{4}\\d{8}\"\n",
    "re.findall(pattern_BL , s1)"
   ]
  },
  {
   "cell_type": "markdown",
   "id": "d5ce4f05",
   "metadata": {},
   "source": [
    "# On board date."
   ]
  },
  {
   "cell_type": "code",
   "execution_count": 15,
   "id": "08dda61b",
   "metadata": {},
   "outputs": [],
   "source": [
    "# SEP. 20,2022"
   ]
  },
  {
   "cell_type": "code",
   "execution_count": 16,
   "id": "d8168d49",
   "metadata": {},
   "outputs": [
    {
     "data": {
      "text/plain": [
       "['SEP. 20,2022']"
      ]
     },
     "execution_count": 16,
     "metadata": {},
     "output_type": "execute_result"
    }
   ],
   "source": [
    "pattern_date = \"[A-Z]{3}\\.\\s\\d{2}\\,\\d{4}\"\n",
    "re.findall(pattern_date , s1)"
   ]
  },
  {
   "cell_type": "markdown",
   "id": "71e57dce",
   "metadata": {},
   "source": [
    "# Port of loading and port of discharge"
   ]
  },
  {
   "cell_type": "code",
   "execution_count": 18,
   "id": "f6f52849",
   "metadata": {},
   "outputs": [],
   "source": [
    "# ocean vessel/voyage/flag, port of loading, port of discahrge "
   ]
  },
  {
   "cell_type": "code",
   "execution_count": null,
   "id": "ff4a55aa",
   "metadata": {},
   "outputs": [],
   "source": [
    "HYUNDAI HONGKONG V 0138W SHANGHAI NHAVA SHEVA"
   ]
  },
  {
   "cell_type": "code",
   "execution_count": 39,
   "id": "cdcfc145",
   "metadata": {},
   "outputs": [
    {
     "data": {
      "text/plain": [
       "['HYUNDAI HONGKONG V 0138W SHANGHAI NHAVA SHEV']"
      ]
     },
     "execution_count": 39,
     "metadata": {},
     "output_type": "execute_result"
    }
   ],
   "source": [
    "pattern_ports = \"[A-Z]{7}\\s[A-Z]{8}\\s[A-Z]{1}\\s\\d{4}[A-Z]{1}\\s[A-Z]{8}\\s[A-Z]{5}\\s[A-Z]{4}\"\n",
    "re.findall(pattern_ports , s1)"
   ]
  },
  {
   "cell_type": "code",
   "execution_count": 36,
   "id": "a7885b96",
   "metadata": {},
   "outputs": [
    {
     "data": {
      "text/plain": [
       "725"
      ]
     },
     "execution_count": 36,
     "metadata": {},
     "output_type": "execute_result"
    }
   ],
   "source": [
    "s1.find(\"SHANGHAI\") # port of loading"
   ]
  },
  {
   "cell_type": "code",
   "execution_count": 37,
   "id": "b974905a",
   "metadata": {},
   "outputs": [
    {
     "data": {
      "text/plain": [
       "734"
      ]
     },
     "execution_count": 37,
     "metadata": {},
     "output_type": "execute_result"
    }
   ],
   "source": [
    "s1.find(\"NHAVA SHEVA\") # port of discharge"
   ]
  },
  {
   "cell_type": "code",
   "execution_count": 46,
   "id": "d4446a43",
   "metadata": {},
   "outputs": [
    {
     "name": "stdout",
     "output_type": "stream",
     "text": [
      "HYUNDAI HONGKONG V 0138W SHANGHAI NHAVA SHEV\n"
     ]
    }
   ],
   "source": [
    "pattern_ports = \"([A-Z]{7}\\s[A-Z]{8}\\s[A-Z]{1}\\s\\d{4}[A-Z]{1}\\s)([A-Z]{8}\\s)([A-Z]{5}\\s[A-Z]{4})\"\n",
    "ports = re.finditer(pattern_ports , s1)\n",
    "for i , port in enumerate(ports):\n",
    "    print(port.group())\n",
    "    if i == 3:\n",
    "        break"
   ]
  },
  {
   "cell_type": "markdown",
   "id": "c7eaf999",
   "metadata": {},
   "source": [
    "# Port of loading"
   ]
  },
  {
   "cell_type": "code",
   "execution_count": 50,
   "id": "766a3485",
   "metadata": {},
   "outputs": [
    {
     "name": "stdout",
     "output_type": "stream",
     "text": [
      "SHANGHAI \n"
     ]
    }
   ],
   "source": [
    "pattern_ports = \"([A-Z]{7}\\s[A-Z]{8}\\s[A-Z]{1}\\s\\d{4}[A-Z]{1}\\s)([A-Z]{8}\\s)([A-Z]{5}\\s[A-Z]{4})\"\n",
    "ports = re.finditer(pattern_ports , s1)\n",
    "for i , port in enumerate(ports):\n",
    "    print(port.group(2))\n",
    "    if i == 3:\n",
    "        break"
   ]
  },
  {
   "cell_type": "markdown",
   "id": "d330ec9d",
   "metadata": {},
   "source": [
    "# Port of discharge"
   ]
  },
  {
   "cell_type": "code",
   "execution_count": 49,
   "id": "aa8b073a",
   "metadata": {},
   "outputs": [
    {
     "name": "stdout",
     "output_type": "stream",
     "text": [
      "NHAVA SHEV\n"
     ]
    }
   ],
   "source": [
    "pattern_ports = \"([A-Z]{7}\\s[A-Z]{8}\\s[A-Z]{1}\\s\\d{4}[A-Z]{1}\\s)([A-Z]{8}\\s)([A-Z]{5}\\s[A-Z]{4})\"\n",
    "ports = re.finditer(pattern_ports , s1)\n",
    "for i , port in enumerate(ports):\n",
    "    print(port.group(3))\n",
    "    if i == 3:\n",
    "        break"
   ]
  },
  {
   "cell_type": "code",
   "execution_count": null,
   "id": "e1f052a6",
   "metadata": {},
   "outputs": [],
   "source": []
  }
 ],
 "metadata": {
  "kernelspec": {
   "display_name": "Python 3 (ipykernel)",
   "language": "python",
   "name": "python3"
  },
  "language_info": {
   "codemirror_mode": {
    "name": "ipython",
    "version": 3
   },
   "file_extension": ".py",
   "mimetype": "text/x-python",
   "name": "python",
   "nbconvert_exporter": "python",
   "pygments_lexer": "ipython3",
   "version": "3.9.7"
  }
 },
 "nbformat": 4,
 "nbformat_minor": 5
}
