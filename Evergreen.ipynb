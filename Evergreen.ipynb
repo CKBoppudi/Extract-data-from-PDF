{
 "cells": [
  {
   "cell_type": "code",
   "execution_count": 13,
   "id": "fc9c9879",
   "metadata": {},
   "outputs": [],
   "source": [
    "import regex as re\n",
    "import pdfplumber"
   ]
  },
  {
   "cell_type": "code",
   "execution_count": 14,
   "id": "7cc11f3b",
   "metadata": {},
   "outputs": [],
   "source": [
    "data_evergreen = pdfplumber.open(r\"C:\\Users\\DELL\\Desktop\\Pyplumber\\EGLV148200260679.pdf\")"
   ]
  },
  {
   "cell_type": "code",
   "execution_count": 16,
   "id": "6b3b1104",
   "metadata": {},
   "outputs": [
    {
     "data": {
      "text/plain": [
       "[<Page:1>, <Page:2>]"
      ]
     },
     "execution_count": 16,
     "metadata": {},
     "output_type": "execute_result"
    }
   ],
   "source": [
    "data_evergreen.pages"
   ]
  },
  {
   "cell_type": "code",
   "execution_count": 17,
   "id": "c7210251",
   "metadata": {},
   "outputs": [
    {
     "name": "stdout",
     "output_type": "stream",
     "text": [
      " \n",
      "     B   I  L   L   OF LADING \n",
      " \n",
      " \n",
      "(2) Shipper / Exporter  (5) Document No. \n",
      "DONAU CARBON GMBH 148200260679  \n",
      "G  WINNERSTRASSE  27-33\n",
      "6  0388 FRANKFURT AM MAIN (6) Export References \n",
      "G  ERMANY  \n",
      "     \n",
      " \n",
      "   \n",
      "(3) Consignee(complete name and address)  (7) Forwarding Agent-References \n",
      "DECCAN FINE CHEMICALS (INDIA)\n",
      " \n",
      "PRIVATE LIMITED\n",
      "K  ESAVARAM (VILLAGE), VENKATANAGARAM  \n",
      "(  PO), PAYAKARAOPETA (MANDAL),  \n",
      "V  ISAKHAPATNAM - 531 127. A.P.  \n",
      "T  EL. 91 40 43459999 / 76 / *  \n",
      "(4) Notify Party (complete name and address)  (8) Point and Country of Origin (for the Merchant＇s reference only) \n",
      "GVR ENTERPRISES 58-13- 71, GOWRI\n",
      "   \n",
      "NAGAR, NAD JUNCTION, VISAKHAPATNAM\n",
      "A  NDHRA PRADESH PIN CODE: 530009 / (9) Also Notify Party (complete name and address) \n",
      "0  9840972148 GVR_ENT@YAHOO.COM\n",
      "P  ADMA@GVRGROUP.COM **  \n",
      "   \n",
      "     \n",
      "    \n",
      "(12) Pre-carriage by  F(1U3)Z PHlaOceU o,f R eCceHipIt/DNaAte  * SEA WAYBILL REQUESTED, BUT NOT RELEASED YET.*\n",
      "  \n",
      "(14) Ocean Vessel/Voy. No.  (15) Port of Loading  (10) Onward Inland Routing/Export Instructions (which are contracted separately by \n",
      "NAGALEADER 1875M FUZHOU, CHINA Merchants entirely for their own account and risk) \n",
      "  \n",
      "(V16I) PZoArtG of, DIisNchDaIrgAe  V(1I7)Z PAlaGce, oIf DNeDlivIerAy   \n",
      "    \n",
      "Particulars furnished by the Merchant \n",
      "(18) Container No. And Seal No.  (19)   Quantity And  (20) Description  of  Goods  (21) Measurement (M³) \n",
      "               Marks & Nos.       Kind of Packages          Gross Weight (KGS) \n",
      "        60.0000 CBM\n",
      "CONTAINER NO./SEAL NO.      \n",
      "     16,128.000 KGS\n",
      "      \n",
      " \n",
      "E  MCU8770134/40H/EMCNWL7512/  7  68 BAGS   (HI-CUBE)\n",
      " \n",
      "                      1 X 40H    \n",
      "D  ONAU CARBON GMBH         1 5.36MT ACTIVATED CARBON PA0.4-4N                    \n",
      "C  ARBOPAL SC 40 DF         P O NO.4500314524/8216293                             \n",
      "C  H-18111                     \n",
      "960 KG                    *FAX.91 40 23601071                                  \n",
      "L  OT NO.202208013-16       I MPORTERS GSTIN: 37AACCD9205D1ZX;                    \n",
      "N  OT FOR MEDICINAL USE     I EC: 4608000071                                      \n",
      "   I MPORTERS EMAIL:                                     \n",
      "   I MPORTS.TUNI@DECCANCHEMICALS.COM                     \n",
      "      \n",
      "**SARITHA.LAKADBOINA@DECCANCHEMICALS.COM             \n",
      "    \n",
      "* THE BALANCE OF BILL OF LADING SEE ATTACHED LIST *  \n",
      "   T OTAL NUMBER OF ATTACHED 1 PAGE  \n",
      "     \"OCEAN FREIGHT PREPAID\"  \n",
      "SHIPPER'S LOAD & COUNT\n",
      "      \n",
      "    768 BAGS   \n",
      "     \n",
      "(22)TOTAL NUMBER OF  ONE(1) CONTAINER ONLY  \n",
      "          C(INO NWTOARINDESR) S OR PACKAGES        \n",
      "(24) FREIGHT & CHARGES  Revenue Tons  Rate           Per  Prepaid  Collect \n",
      "                                     AS   ARRANGED\n",
      "        \n",
      "        \n",
      "        \n",
      "        \n",
      "        \n",
      "        \n",
      "        \n",
      "        \n",
      "        \n",
      "(25) B/L NO.   (27) Number of Original B(s)/L  (29) Prepaid at  (30) Collect at \n",
      "EGLV NIL (0) FUZHOU, CHINA\n",
      "1  48200260679      \n",
      "  (28) Place of B(s)/L  Issue/Date  (31) Exchange Rate  (32) Exchange Rate \n",
      "HAMBURG SEP.08,2022\n",
      "        \n",
      "(26) Service Type/Mode  (33) Laden on Board  EVERGREEN  SHIPPING AGENCY (EURO PE) GMBH           \n",
      "FCL/FCL O/O SEP.08,2022\n",
      "As agent for the  Carrier and the Vessel ProviderEvergreen Marine (Asia) Pte. Ltd.\n",
      "NAGALEADER 1875M doing business as \"Evergreen Line\"\n",
      "FUZHOU, CHINA\n",
      "By_______________________________________________________________\n",
      "   \n",
      "FORM NO. DOC-I-005-02 \n",
      " \n",
      " \n",
      "              \n",
      "ATTACHMENT\n",
      " \n",
      " \n",
      "  M.V. NAGALEADER 1875M  B/L NO. EGLV148200260679   ATTACHED L IST PAGE :1/1\n",
      "(  1 8 ) C o n t a i nMearr kN o&. ANnods .Seal no. (K1i9n)dQ uoafn tPiatcyk aAgneds (20)Description of Goods\n",
      "   \n",
      "  TRADE REGISTER NUM BER OF  GVR                       \n",
      "  ENTERP  RISES AACFG9 025BCH001                         \n",
      " \n",
      "  GST NO OF OUR CHA  GVR ENTERPRISES                   \n",
      "  37AACFG9025B1ZQ                                      \n",
      "PAN NO : AACFG9025B                                   \n",
      "   \n",
      "   \n",
      "   \n",
      "   \n",
      "   \n",
      "   \n",
      "   \n",
      " \n",
      "   \n",
      "   \n",
      "     \n",
      "     \n",
      "     \n",
      "   \n",
      "     \n",
      "     \n",
      "     \n",
      "     \n",
      " \n",
      "     \n",
      " \n",
      "       \n",
      "     \n",
      "     \n",
      "     \n",
      "     \n",
      "     \n",
      "     \n",
      "     \n",
      "     \n",
      "     \n",
      "     \n",
      "     \n",
      "     \n",
      "     \n",
      "     \n",
      "     \n",
      "     \n",
      "   \n",
      "          \n",
      "         \n",
      "         \n",
      "         \n",
      "         \n",
      "         \n",
      "         \n",
      "         \n",
      "         \n",
      "         \n",
      "       \n",
      "         \n",
      "       \n",
      "         \n",
      "       \n",
      " \n",
      "   \n",
      " \n"
     ]
    }
   ],
   "source": [
    "s1 = \"\"\n",
    "for i in data_evergreen.pages:\n",
    "    s1 = s1 + i.extract_text()\n",
    "    print(i.extract_text())"
   ]
  },
  {
   "cell_type": "markdown",
   "id": "f04e84bf",
   "metadata": {},
   "source": [
    "# B/L no."
   ]
  },
  {
   "cell_type": "code",
   "execution_count": 32,
   "id": "e785f420",
   "metadata": {},
   "outputs": [
    {
     "data": {
      "text/plain": [
       "['EGLV148200260679']"
      ]
     },
     "execution_count": 32,
     "metadata": {},
     "output_type": "execute_result"
    }
   ],
   "source": [
    "pattern_BL = \"[A-Z]{4}\\d{12}\"\n",
    "re.findall(pattern_BL , s1)"
   ]
  },
  {
   "cell_type": "markdown",
   "id": "f5709a94",
   "metadata": {},
   "source": [
    "# port of loading "
   ]
  },
  {
   "cell_type": "code",
   "execution_count": 23,
   "id": "fee530c2",
   "metadata": {},
   "outputs": [
    {
     "data": {
      "text/plain": [
       "['NAGALEADER 1875M FUZHOU, CHINA']"
      ]
     },
     "execution_count": 23,
     "metadata": {},
     "output_type": "execute_result"
    }
   ],
   "source": [
    "pattern_port = \"[A-Z]{10}\\s\\d{4}[A-Z]\\s[A-Z]{6},\\s[A-Z]{5}\"\n",
    "re.findall(pattern_port,s1)"
   ]
  },
  {
   "cell_type": "code",
   "execution_count": 25,
   "id": "58305b06",
   "metadata": {},
   "outputs": [
    {
     "name": "stdout",
     "output_type": "stream",
     "text": [
      "NAGALEADER 1875M FUZHOU, CHINA\n"
     ]
    }
   ],
   "source": [
    "pattern_port = \"([A-Z]{10}\\s\\d{4}[A-Z]\\s)([A-Z]{6},\\s[A-Z]{5})\"\n",
    "ports = re.finditer(pattern_port,s1)\n",
    "for i , port in enumerate(ports):\n",
    "    print(port.group())\n",
    "    if i == 2:\n",
    "        break"
   ]
  },
  {
   "cell_type": "code",
   "execution_count": 26,
   "id": "c4d2d3d2",
   "metadata": {},
   "outputs": [
    {
     "name": "stdout",
     "output_type": "stream",
     "text": [
      "FUZHOU, CHINA\n"
     ]
    }
   ],
   "source": [
    "pattern_port = \"([A-Z]{10}\\s\\d{4}[A-Z]\\s)([A-Z]{6},\\s[A-Z]{5})\"\n",
    "ports = re.finditer(pattern_port,s1)\n",
    "for i , port in enumerate(ports):\n",
    "    print(port.group(2))\n",
    "    if i == 2:\n",
    "        break"
   ]
  },
  {
   "cell_type": "code",
   "execution_count": null,
   "id": "ab630b29",
   "metadata": {},
   "outputs": [],
   "source": []
  },
  {
   "cell_type": "code",
   "execution_count": null,
   "id": "bc3cf505",
   "metadata": {},
   "outputs": [],
   "source": []
  },
  {
   "cell_type": "code",
   "execution_count": null,
   "id": "cc844374",
   "metadata": {},
   "outputs": [],
   "source": []
  },
  {
   "cell_type": "code",
   "execution_count": null,
   "id": "35339a6c",
   "metadata": {},
   "outputs": [],
   "source": []
  },
  {
   "cell_type": "code",
   "execution_count": null,
   "id": "a9a7e6ba",
   "metadata": {},
   "outputs": [],
   "source": []
  }
 ],
 "metadata": {
  "kernelspec": {
   "display_name": "Python 3 (ipykernel)",
   "language": "python",
   "name": "python3"
  },
  "language_info": {
   "codemirror_mode": {
    "name": "ipython",
    "version": 3
   },
   "file_extension": ".py",
   "mimetype": "text/x-python",
   "name": "python",
   "nbconvert_exporter": "python",
   "pygments_lexer": "ipython3",
   "version": "3.9.7"
  }
 },
 "nbformat": 4,
 "nbformat_minor": 5
}
