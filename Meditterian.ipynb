{
 "cells": [
  {
   "cell_type": "code",
   "execution_count": 4,
   "id": "0e4a1efe",
   "metadata": {},
   "outputs": [],
   "source": [
    "import pdfplumber\n",
    "import regex as re"
   ]
  },
  {
   "cell_type": "code",
   "execution_count": 5,
   "id": "2993c159",
   "metadata": {},
   "outputs": [],
   "source": [
    "data = pdfplumber.open(r\"C:\\Users\\DELL\\Desktop\\Pyplumber\\MEDUI6899567.pdf\")"
   ]
  },
  {
   "cell_type": "code",
   "execution_count": 6,
   "id": "6ac10d86",
   "metadata": {},
   "outputs": [
    {
     "data": {
      "text/plain": [
       "[<Page:1>]"
      ]
     },
     "execution_count": 6,
     "metadata": {},
     "output_type": "execute_result"
    }
   ],
   "source": [
    "data.pages"
   ]
  },
  {
   "cell_type": "code",
   "execution_count": 7,
   "id": "a0f48a4a",
   "metadata": {},
   "outputs": [
    {
     "name": "stdout",
     "output_type": "stream",
     "text": [
      "MEDITERRANEAN SHIPPING COMPANY S.A. SEA WAYBILL No.  MEDUI6899567\n",
      "12-14, chemin Rieu - CH -1208 GENEVA, Switzerland NOT NEGOTIABLE - COPY \"TPraonrts-Tpoo-rPt\"o(sret\"e o Cr l\"aCuosme b1i)n ed \n",
      "website: www.msc.com  NO.& SEQUENCE OF SEA WAYBILLS NO. OF RIDER PAGES\n",
      " 0  Zero\n",
      "SHIPPER:  CARRIER'S AGENTS ENDORSEMENTS:  (Include Agent(s) at POD)\n",
      "FPS TURKEY AMBALAJ SANAYI VE TIC.A.S SHIPPER'S LOAD, STOW AND COUNT\n",
      "FCLFCL\n",
      "FATIH MAH.FABRIKA CAD. SAID TO CONTAIN\n",
      "NO:10 SANCAKTEPE\n",
      "SANCAKTEPE / ISTANBUL\n",
      "VAT NUMBER: 915 006 3000\n",
      "CONSIGNEE: \n",
      "DECCAN FINE CHEMICALS (INDIA) PRIVATE LIMITED TEL.91 40 43459999 / 76 /  Lloyds/IMO Number: 9708679 \n",
      "KESAVARA (VILLAGE), VENKATANAGARAM (PO),  FPAAXN.#9A1A 4C0C 2D396200150D71    C TOENRTMAIINNAELR  HDAENMDULRINRGAG CEH CAHRAGREGS EASN DPA YABLE \n",
      "PAYAKARAOPE (MANDAL), VISAKHAPATNAM-531 127.A.P. IMPORTER'S GSTIN :  AS PER LINE'S TARIFF.\n",
      "37AACCD9205D1ZX*\n",
      "INDIA WOOD PACKAGING MATERIALS SHOULD COMPLY WITH ISPM15 REGULATIONS.FAILURE TO COMPLY \n",
      "WILL RESULT IN CONTAINERS BEING RETURNED TO LOAD PORT OR CARGO BEING DESTROYED-ALL \n",
      "COSTS/FINES/PENALTIES WILL BE FOR SHIPPERS' ACCOUNT.\n",
      "[Continued in the Description section]\n",
      "NOTIFY PARTIES : (No responsibility shall attach to Carrier or to his Agent for failure to notify - see \n",
      "CGlVauRs eE 2N0T)ERPRISES GVR_ENT@YAHOO.COM PMOSRCT  OAFG DEISNCCHAYR (GINE DAGIAEN) TP:VT. LTD.MSC \n",
      "58-13-71, GOWRI NAGAR,NAD JUNCTION,  PSAADRMITAH@A.GLAVKRAGDRBOOUINP.AC@ODMECCAN House\n",
      "VISAKHAPATNAM CHEMICALS.COM AMnudmhbearii- (Keuxr Blao Rmobaady, )A, 4n0d0h0e5r9i-East 7777777707070700077727252075513320760530722202651107303335300362227077236061047133100732260733052311207257344632374022077763434205775110777777707000707007 \n",
      "9840972148 Pan Number: AACFG9025B** Phone : +91 22 6637 8000 7777777707070700073717476715546710725200014223317207473766032473264073731205033342230761374266720576007275357673246632077565273555654040777777707000707007 \n",
      "Fax : +91 22 6637 8191 7777777707070700073632475025771110762131562613201507402063722214733073070423222513330736663117560362107762635711465623076160376622577730777777707000707007 \n",
      "Email : IND-info@msc.com 6666666606060600062602046220006600622204602044006006222044200460240064046026624402000666226442204242206666244664264026062420066604640000666666606000606006 \n",
      "VESSEL AND VOYAGE NO (see Clause 8 & 9) PORT OF LOADING PLACE OF RECEIPT:  (Combined Transport ONLY - see Clause 1 & 5.2)\n",
      "MSC MAYA - FT234E Yarimca XXXXXXXXXXXXXXXX\n",
      "BOOKING REF.                         (or)                         SHIPPER'S REF.   PORT OF DISCHARGE  PLACE OF DELIVERY : (Combined Transport ONLY - see Clause 1 & 5.2)\n",
      "080IUS0020323 XXXXXXXXXXXXXXXX Visakhapatnam, India XXXXXXXXXXXXXXXX\n",
      "P A R T I C U L A R S    F U R N I S H E D   B Y   T H E   S H I P P E R    -    N O T   C H E C K E D    B Y    C A R R I E R    -    C A R R I E R   N O T   R E S P O N S I B L E   (see Clause 14)\n",
      "Container Numbers, Seal Description of Packages and Goods  Gross  Cargo  Measurement\n",
      "Numbers and Marks (Continued on attached Bill of Lading Rider pages(s), if applicable) Weight\n",
      "continued from Carrier's Agent Endorsements\n",
      " \"Carrier has no liability or responsibility whatsoever for thermal loss or damage to the goods by reason of natural variations in \n",
      "atmospheric temperatures during the winter period, and / or caused by inadequate packing of the Goods for carriage in dry-van \n",
      "containers, and / or inherent vice of the Goods, in such temperatures.\" \n",
      "FREE IN TURKISH PORT\n",
      "MEDU5812838 10 PALLET(S) of FORMLINER  -  10.000 PCS / 10 PALLETS  5,450.000kgs.\n",
      "20' DRY VAN HS CODE        : 3923.21.00.00.19\n",
      "NET WEIGHT : 5330 KGS\n",
      "Seal Number:\n",
      "EU23007999 Deccan PO no: 14004166 * IMPORTER'S GSTIN : 37AACCD9205D1ZX IMPORTER'S IEC : \n",
      "Tare Weight: 2.220 kgs. 4608000071 IMPORTER'S EMAIL ID IMPORTS.TUNI@ DECCANCHEMICALS.COM AEO-T1 \n",
      "CERTIFICATE NO.INAACCD9205D1F176 \n",
      "** SARITHA.LAKADBOINA@DECCANCHEMICALS.COM TRADE REGISTER NUMBER OF GVR \n",
      "ENTERPRISES AACFG9025BCH001 GST NO OF OUR CHA GVR ENTERPRISES \n",
      "37AACFG9025B1ZQ Pan Number: AACFG9025B\n",
      "10 DAYS DEMURRAGE FREE TIME AT POD\n",
      "FREIGHT PREPAID\n",
      "Total Items: 10  Total  :  5,450.000kgs.\n",
      "*IMPORTER'S IEC : 4608000071 IMPORTER'S EMAIL ID\n",
      "IMPORTS.TUNI@ DECCANCHEMICALS.COM\n",
      "AEO-T1 CERTIFICATE NO.INAACCD9205D1F176\n",
      "**TRADE REGISTER NUMBER OF GVR ENTERPRISES AACFG9025BCH001\n",
      "GST NO OF OUR CHA GVR ENTERPRISES 37AACFG9025B1ZQ\n",
      "FREIGHT & CHARGES      C   a  r g o    s  h  a l l   n  o t be delivered unless Freight  &  Charges are paid(see Clause 16)\n",
      "RECEIVED by the Carrier from the Shipper in apparent good order and condition \n",
      "unless otherwise stated herein the total number or quantity of containers or other \n",
      "AS PER AGREEMENT packages or units indicated in box entitled “Carrier’s Receipt” for carriage subject to \n",
      "all the term hereof from the Place of Receipt or the Port of Loading, to the Port of \n",
      "Discharge or Place of Delivery, whichever is applicable. IN ACCEPTING THIS SEA \n",
      "WAYBILL THE SHIPPER EXPRESSLY ACCEPTS AND AGREES TO, ON HIS OWN \n",
      "BEHALF AND ON BEHALF OF THE CONSIGNEE, THE OWNER OF GOODS AND \n",
      "THE MERCHANT, AND WARRANTS HE HAS AUTHORITY TO DO SO,   ALL THE \n",
      "TERMS  AND  CONDITIONS  WHETHER  PRINTED,  STAMPED  OR  OTHERWISE \n",
      "INCORPORATED ON THIS SIDE AND ON THE REVERSE SIDE AND TERMS AND \n",
      "CONDITIONS OF THE CARRIER’S APPLICABLE TARIFF AS IF THEY WERE ALL \n",
      "SIGNED BY THE SHIPPER.\n",
      "Unless instructed otherwise in writing by the Shipper delivery of the Goods will be \n",
      "made only to the Consignee or his authorized representatives. This Sea Waybill is not \n",
      "a document of title to the Goods and delivery will made, after payment of any \n",
      "outstanding Freight and changes, only on provision of proper proof of identity and of \n",
      "authorization at the Port of Discharge or Place of Delivery, as appropriate, without the \n",
      "need to produce or surrender a copy of this Sea Waybill.\n",
      "IN WITNESS WHEREOF the Carrier, Master or their Agent  has  signed  this  Sea \n",
      "Waybill.\n",
      "DECLARED VALUE (Only applicable if Ad Valorem CARRIER'S RECEIPT (No. of Cntrs or Pkgs rcvd by SIGNED on behalf of the Carrier MSC Mediterranean Shipping Company S.A.\n",
      "charges paid - see Clause 7.3) Carrier - see Clause 14.1) by MSC Gemi Acenteligi Anonim Sirketi As Agent\n",
      "XXXXXXXXXXXXXXXX  1 cntr\n",
      "PLACE AND DATE OF ISSUE SHIPPED ON BOARD DATE\n",
      "MSC Istanbul\n",
      "29-Aug-2022 29-Aug-2022\n",
      "Sea Waybill Standard Edition - 01/2017 TERMS CONTINUED  ON REVERSE    =  \n"
     ]
    }
   ],
   "source": [
    "s1 = \"\"\n",
    "for i in data.pages:\n",
    "    s1 = s1 + i.extract_text()\n",
    "    print(i.extract_text())"
   ]
  },
  {
   "cell_type": "markdown",
   "id": "66f38aff",
   "metadata": {},
   "source": [
    "# waybill no."
   ]
  },
  {
   "cell_type": "code",
   "execution_count": 8,
   "id": "cd3a7cad",
   "metadata": {},
   "outputs": [],
   "source": [
    "# MEDUI6899567"
   ]
  },
  {
   "cell_type": "code",
   "execution_count": 9,
   "id": "ad5d4fef",
   "metadata": {},
   "outputs": [
    {
     "data": {
      "text/plain": [
       "['MEDUI6899567']"
      ]
     },
     "execution_count": 9,
     "metadata": {},
     "output_type": "execute_result"
    }
   ],
   "source": [
    "pattern_BL = \"[A-Z]{5}\\d{7}\"\n",
    "re.findall(pattern_BL , s1)"
   ]
  },
  {
   "cell_type": "markdown",
   "id": "5b5040d6",
   "metadata": {},
   "source": [
    "# place of issue, ship on board date 29-Aug-2022"
   ]
  },
  {
   "cell_type": "code",
   "execution_count": 10,
   "id": "09080c48",
   "metadata": {},
   "outputs": [
    {
     "data": {
      "text/plain": [
       "['29-Aug-2022', '29-Aug-2022']"
      ]
     },
     "execution_count": 10,
     "metadata": {},
     "output_type": "execute_result"
    }
   ],
   "source": [
    "pattern_date = \"\\d{2}-[A-Z][a-z]{2}-\\d{4}\"\n",
    "re.findall(pattern_date , s1)"
   ]
  },
  {
   "cell_type": "code",
   "execution_count": 11,
   "id": "a26467a0",
   "metadata": {},
   "outputs": [],
   "source": []
  },
  {
   "cell_type": "markdown",
   "id": "58c4ba82",
   "metadata": {},
   "source": [
    "# Container number  #MEDU5812838"
   ]
  },
  {
   "cell_type": "code",
   "execution_count": 17,
   "id": "d1184415",
   "metadata": {},
   "outputs": [
    {
     "data": {
      "text/plain": [
       "['EDUI6899567', 'MEDU5812838']"
      ]
     },
     "execution_count": 17,
     "metadata": {},
     "output_type": "execute_result"
    }
   ],
   "source": [
    "pattern_container = \"[A-Z]{4}\\d{7}\"\n",
    "re.findall(pattern_container , s1)"
   ]
  },
  {
   "cell_type": "code",
   "execution_count": 19,
   "id": "b3e84ad0",
   "metadata": {},
   "outputs": [
    {
     "data": {
      "text/plain": [
       "3440"
      ]
     },
     "execution_count": 19,
     "metadata": {},
     "output_type": "execute_result"
    }
   ],
   "source": [
    "s1.find(\"MEDU5812838\")"
   ]
  },
  {
   "cell_type": "markdown",
   "id": "25e2946f",
   "metadata": {},
   "source": [
    "# vessel, voyage no. and port of loading"
   ]
  },
  {
   "cell_type": "code",
   "execution_count": 21,
   "id": "4d083736",
   "metadata": {},
   "outputs": [],
   "source": [
    "# MSC MAYA - FT234E Yarimca"
   ]
  },
  {
   "cell_type": "code",
   "execution_count": 24,
   "id": "cac4e5f1",
   "metadata": {},
   "outputs": [
    {
     "data": {
      "text/plain": [
       "['MSC MAYA - FT234E Yarimca']"
      ]
     },
     "execution_count": 24,
     "metadata": {},
     "output_type": "execute_result"
    }
   ],
   "source": [
    "pattern_loading = \"([A-Z]{3}\\s[A-Z]{4}\\s-\\s[A-Z]{2}\\d{3}[A-Z]\\s)[A-Z][a-z]{6}\"\n",
    "re.findall(pattern_loading , s1)"
   ]
  },
  {
   "cell_type": "markdown",
   "id": "de72b18b",
   "metadata": {},
   "source": [
    "# Port of loading"
   ]
  },
  {
   "cell_type": "code",
   "execution_count": 31,
   "id": "439ca7dd",
   "metadata": {},
   "outputs": [
    {
     "name": "stdout",
     "output_type": "stream",
     "text": [
      "Yarimca\n"
     ]
    }
   ],
   "source": [
    "pattern_loading = \"([A-Z]{3}\\s[A-Z]{4}\\s-\\s[A-Z]{2}\\d{3}[A-Z]\\s)([A-Z][a-z]{6})\"\n",
    "cities = re.finditer(pattern_loading , s1)\n",
    "for i , city in enumerate(cities):\n",
    "    print(city.group(2))\n",
    "    if i == 2:\n",
    "        break"
   ]
  },
  {
   "cell_type": "markdown",
   "id": "86077855",
   "metadata": {},
   "source": [
    "# Place of delivery "
   ]
  },
  {
   "cell_type": "code",
   "execution_count": 27,
   "id": "06286e4a",
   "metadata": {},
   "outputs": [
    {
     "data": {
      "text/plain": [
       "['XXXXXXXXXXXXXXXX Visakhapatnam']"
      ]
     },
     "execution_count": 27,
     "metadata": {},
     "output_type": "execute_result"
    }
   ],
   "source": [
    "pattern_delivery = \"[A-Z]{16}\\s[A-Z][a-z]{12}\"\n",
    "re.findall(pattern_delivery , s1)"
   ]
  },
  {
   "cell_type": "code",
   "execution_count": null,
   "id": "f5548b0a",
   "metadata": {},
   "outputs": [],
   "source": []
  }
 ],
 "metadata": {
  "kernelspec": {
   "display_name": "Python 3 (ipykernel)",
   "language": "python",
   "name": "python3"
  },
  "language_info": {
   "codemirror_mode": {
    "name": "ipython",
    "version": 3
   },
   "file_extension": ".py",
   "mimetype": "text/x-python",
   "name": "python",
   "nbconvert_exporter": "python",
   "pygments_lexer": "ipython3",
   "version": "3.9.7"
  }
 },
 "nbformat": 4,
 "nbformat_minor": 5
}
