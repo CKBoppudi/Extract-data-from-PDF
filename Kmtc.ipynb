{
 "cells": [
  {
   "cell_type": "code",
   "execution_count": 5,
   "id": "a4a462af",
   "metadata": {},
   "outputs": [],
   "source": [
    "import pdfplumber\n",
    "import regex as re"
   ]
  },
  {
   "cell_type": "code",
   "execution_count": 6,
   "id": "06944c5c",
   "metadata": {},
   "outputs": [],
   "source": [
    "data = pdfplumber.open(r\"C:\\Users\\DELL\\Desktop\\Pyplumber\\KMTCSHAJ689729.pdf\")"
   ]
  },
  {
   "cell_type": "code",
   "execution_count": 7,
   "id": "e26072fb",
   "metadata": {},
   "outputs": [
    {
     "data": {
      "text/plain": [
       "[<Page:1>, <Page:2>]"
      ]
     },
     "execution_count": 7,
     "metadata": {},
     "output_type": "execute_result"
    }
   ],
   "source": [
    "data.pages"
   ]
  },
  {
   "cell_type": "code",
   "execution_count": 8,
   "id": "cd62cc9a",
   "metadata": {
    "scrolled": false
   },
   "outputs": [
    {
     "name": "stdout",
     "output_type": "stream",
     "text": [
      " Shipper  Booking No. Waybill No.\n",
      "JIANGXI WEIHUA CHEMICAL CO.,LTD. CN04922273 KMTCSHAJ689729\n",
      "NO.2 HUOJU ROAD,HIGH-TECH INDUSTRIAL PARK,\n",
      "YIYANG COUNTRY,SHANGRAO CITY,\n",
      "JIANGXI PROVINCE,CHINA\n",
      "www.ekmtc.com\n",
      "port-to-port or Combined Transport\n",
      " Consignee\n",
      "DECCAN FINE CHEMICALS (INDIA) PRIVATE LIMITED\n",
      "NON-NEGOTIABLE\n",
      "KESAVARAM(VILLAGE),VENKATANAGARAM(PO),\n",
      "PAYAKARAOPETA(MANDAL),VISAKHAPATNAM-531 127.A.P.\n",
      "SEA WAYBILL\n",
      "TEL:91 40 43459976  FAX:91 40 23601071*\n",
      "THIS CONTRACT is subject to the terms and conditions, including but not limited to Clause\n",
      "Paramount, Governing Law and Arbitration Clause, Liberties Clause, Valuable Goods Clause,\n",
      "Limitation of Liability for Loss or Damage Clause and Tariff Clause, of the current Korea\n",
      "Marine Transport Co.,Ltd.Bill of Lading(available from the Carrier, its agents and at\n",
      " Notify Party (Carrier not responsible for failure to notify)\n",
      "www.ekmtc.com). To the extent necessary to enable the Consignee to sue and be sued under\n",
      "GVR ENTERPRISES\n",
      "this contract, the Shipper on entering into this contract does so on his own behalf and as agent\n",
      "58-13-71,GOWRI NAGAR,NAD JUNCTION,VISAKHAPATNAM for and on behalf of the Consignee and warrants that he has authority to do so.\n",
      "09840972148   Forwarding Agent-References\n",
      "GVR_ENT@YAHOO.COM**\n",
      "  Place of Receipt (Combined Transport Only)\n",
      " Pre-carriage by (Combined or Through Transport Only)   Place of Delivery (Combined Transport Only)\n",
      " Vessel / Voy No. Final Destination (For the Merchant's Reference)\n",
      "TABEA /906W VISAKHAPATNAM\n",
      " Port of Loading  Port of Discharge\n",
      "SHANGHAI,CHINA VISAKHAPATNAM\n",
      "PARTICULARS FURNISHED BY SHIPPER\n",
      " Container No. /Seal No. No. of Containers   Description of Goods Gross Weight Measurement\n",
      " Marks & Numbers or P'kgs (KGS) (CBM)\n",
      "N/M \"SHIPPER'S LOAD, COUNT & SEAL\"\n",
      "40,240.000 80.0000\n",
      "CAIU4392431/CD689477 \"SAID TO CONTAIN\"\n",
      "TEMU7799907/CD689471 2X40'HQ\n",
      "80BAGS\n",
      "40 MT OF\n",
      "2,4-DICHLORO-3,5-\n",
      "DINITROBENZOTRIFLUORIDE\n",
      "N.W.:40000KGS\n",
      "PO NO.: 14004243\n",
      "ITEM NO.:00070\n",
      "MATERIAL NO.:12000090\n",
      "HSN CODE:29049990\n",
      "UN 3077,CLASS:9\n",
      "IE CODE:4608000071\n",
      "\"FREIGHT PREPAID\"\n",
      "\"CONTINUED\n",
      " ATTACHED SHEET\"\n",
      " Total Number of Containers of Packages (in words) SAY : TWO (2) CONTAINERS ONLY.\n",
      " Above particulars as declared by shipper, but without responsibility of or representation by carrier.\n",
      "Payable At RECEIVED by the Carrier from the Shipper in\n",
      "  Freight & Charges Basis  Rate Per Curr.\n",
      "POL POD Elsewhere apparent external good order and condition\n",
      "unless otherwise indicated herein, the total\n",
      "number or quantity of containers or other\n",
      "packages or units indicated below stated by\n",
      "the Shipper to comprise the cargo specified\n",
      "for transportation from the place of receipt or\n",
      "**FREIGHT PREPAID AS ARRANGED**\n",
      "the port of loading, whichever is applicable, to\n",
      "the port of dischage or the place of delivery,\n",
      "whichever is applicable.\n",
      "The Shipper shall be entitled to change the\n",
      "Consignee before delivery of the goods\n",
      "provided he gives the Carrier reasonable\n",
      "notice in writing. Delivery will be made to\n",
      "the Consignee or his authorized agent on\n",
      "production of reasonable proof of identity\n",
      "Ex. Rate  Freight Payable at Type of Movement\n",
      "(and, in the case of an agent, reasonable\n",
      "SHANGHAI,CHINA CY  -  CY proof of authority) without production of\n",
      "this Waybill. The Carrier shall be under no\n",
      "Total Prepaid in Local Currency  No. of Original B/L Place and Date of Issue Sep.12,2022\n",
      "liability whatsoever for misdelivery unless\n",
      "ZERO(0) SHANGHAI,CHINA caused by the Carrier's negligence.\n",
      "Shipped On Board\n",
      "Korea Marine Transport Co., Ltd.\n",
      "Date Sep.12,2022\n",
      "  By\n",
      "ATTACHED SHEET\n",
      "2 / 3\n",
      " (OCEAN VESSEL) (VOYAGE) (B/L NO.)\n",
      "TABEA 906W KMTCSHAJ689729\n",
      " Marks & Numbers Description of Goods\n",
      "* IMPORTER'S GSTIN:37AACCD9205D1ZX\n",
      "PAN NO:AACCD9205D\n",
      "IMPORTER'S IEC:4608000071\n",
      "IMPORTER'S EMIAL ID:\n",
      "IMPORTS.TUNI@DECCANCHEMICALS.COM\n",
      "** PADMA@GVRGROUP.COM\n",
      "SARITHA.LAKADBOINA@DECCANCHEMICALS.COM\n",
      "TRADE REGISTER NUMBER OF GVR ENTERPRISES\n",
      "AACFG9025BCH001\n",
      "GST NO OF OUR CHA GVR ENTERPRISES\n",
      "37AACFG9025B1ZQ\n",
      "PAN NO: AACFG9025B\n",
      "VISAKHAPATNAM(VIZAG), INDIA\n",
      "SEAHORSE SHIP AGENCIES\n",
      "PVT. LTD., VIZAG\n",
      "FLAT NO: 211, 2ND FLOOR, V.I.P TOWER\n",
      "V.I.P ROAD, VISAKHAPATNAM – 530 003.\n",
      "LAND PHONE: +91 891 3511703.\n"
     ]
    }
   ],
   "source": [
    "s1 = \"\"\n",
    "for i in data.pages:\n",
    "    s1 = s1 + i.extract_text()\n",
    "    print(i.extract_text())"
   ]
  },
  {
   "cell_type": "markdown",
   "id": "7965588b",
   "metadata": {},
   "source": [
    "# B/L No"
   ]
  },
  {
   "cell_type": "code",
   "execution_count": 10,
   "id": "013223bc",
   "metadata": {},
   "outputs": [
    {
     "data": {
      "text/plain": [
       "['KMTCSHAJ689729', 'KMTCSHAJ689729']"
      ]
     },
     "execution_count": 10,
     "metadata": {},
     "output_type": "execute_result"
    }
   ],
   "source": [
    "pattern_kmtc = \"[A-Z]{8}\\d+\"\n",
    "re.findall(pattern_kmtc , s1)"
   ]
  },
  {
   "cell_type": "markdown",
   "id": "1c370ee8",
   "metadata": {},
   "source": [
    "# Shipped on board date, date of issue"
   ]
  },
  {
   "cell_type": "code",
   "execution_count": 11,
   "id": "e86875e2",
   "metadata": {},
   "outputs": [],
   "source": [
    " # Sep.12,2022"
   ]
  },
  {
   "cell_type": "code",
   "execution_count": 12,
   "id": "dea68976",
   "metadata": {},
   "outputs": [
    {
     "data": {
      "text/plain": [
       "['Sep.12,2022', 'Sep.12,2022']"
      ]
     },
     "execution_count": 12,
     "metadata": {},
     "output_type": "execute_result"
    }
   ],
   "source": [
    "pattern_date = \"[A-Z][a-z]{2}\\\\.\\d{2}\\,\\d{4}\"\n",
    "re.findall(pattern_date , s1)"
   ]
  },
  {
   "cell_type": "code",
   "execution_count": 13,
   "id": "712d0cda",
   "metadata": {},
   "outputs": [
    {
     "name": "stdout",
     "output_type": "stream",
     "text": [
      "Requirement already satisfied: datefinder in c:\\users\\dell\\anaconda3\\lib\\site-packages (0.7.3)\n",
      "Requirement already satisfied: regex>=2017.02.08 in c:\\users\\dell\\anaconda3\\lib\\site-packages (from datefinder) (2021.8.3)\n",
      "Requirement already satisfied: python-dateutil>=2.4.2 in c:\\users\\dell\\anaconda3\\lib\\site-packages (from datefinder) (2.8.2)\n",
      "Requirement already satisfied: pytz in c:\\users\\dell\\anaconda3\\lib\\site-packages (from datefinder) (2021.3)\n",
      "Requirement already satisfied: six>=1.5 in c:\\users\\dell\\anaconda3\\lib\\site-packages (from python-dateutil>=2.4.2->datefinder) (1.16.0)\n",
      "Note: you may need to restart the kernel to use updated packages.\n"
     ]
    }
   ],
   "source": [
    "pip install datefinder"
   ]
  },
  {
   "cell_type": "code",
   "execution_count": 14,
   "id": "db7afa63",
   "metadata": {},
   "outputs": [],
   "source": [
    "import datefinder"
   ]
  },
  {
   "cell_type": "code",
   "execution_count": 15,
   "id": "f62be35d",
   "metadata": {},
   "outputs": [],
   "source": [
    "matches = datefinder.find_dates(s1)"
   ]
  },
  {
   "cell_type": "code",
   "execution_count": 16,
   "id": "9e0dafae",
   "metadata": {},
   "outputs": [
    {
     "name": "stdout",
     "output_type": "stream",
     "text": [
      "2022-09-02 00:00:00\n",
      "2040-09-25 00:00:00\n",
      "2022-03-05 00:00:00\n",
      "2070-09-25 00:00:00\n",
      "3077-09-25 00:00:00\n",
      "2022-09-09 00:00:00\n",
      "2022-09-12 00:00:00\n",
      "2022-02-03 00:00:00\n",
      "0211-02-25 00:00:00\n",
      "0530-03-25 00:00:00\n"
     ]
    }
   ],
   "source": [
    "for match in matches:\n",
    "    print(match)"
   ]
  },
  {
   "cell_type": "markdown",
   "id": "4432a4f1",
   "metadata": {},
   "source": [
    "# Port of loading and port of discharge."
   ]
  },
  {
   "cell_type": "code",
   "execution_count": 21,
   "id": "216efff0",
   "metadata": {},
   "outputs": [
    {
     "data": {
      "text/plain": [
       "['SHANGHAI,CHINA VISAKHAPATNAM']"
      ]
     },
     "execution_count": 21,
     "metadata": {},
     "output_type": "execute_result"
    }
   ],
   "source": [
    "pattern_loading = \"[A-Z]{8}\\,[A-Z]{5}\\s[A-Z]{13}\"\n",
    "re.findall(pattern_loading , s1)"
   ]
  },
  {
   "cell_type": "code",
   "execution_count": 22,
   "id": "10c11827",
   "metadata": {},
   "outputs": [
    {
     "name": "stdout",
     "output_type": "stream",
     "text": [
      "SHANGHAI,CHINA VISAKHAPATNAM\n"
     ]
    }
   ],
   "source": [
    "pattern_loading = \"([A-Z]{8}\\,[A-Z]{5}\\s)([A-Z]{13})\"\n",
    "cities = re.finditer(pattern_loading , s1)\n",
    "for i , city in enumerate(cities):\n",
    "    print(city.group())\n",
    "    if 1 == 2:\n",
    "        break"
   ]
  },
  {
   "cell_type": "markdown",
   "id": "e305c6f7",
   "metadata": {},
   "source": [
    "# Port of loading."
   ]
  },
  {
   "cell_type": "code",
   "execution_count": 27,
   "id": "fa9a46c3",
   "metadata": {},
   "outputs": [
    {
     "name": "stdout",
     "output_type": "stream",
     "text": [
      "SHANGHAI,CHINA \n"
     ]
    }
   ],
   "source": [
    "pattern_loading = \"([A-Z]{8}\\,[A-Z]{5}\\s)([A-Z]{13})\"\n",
    "cities = re.finditer(pattern_loading , s1)\n",
    "for i , city in enumerate(cities):\n",
    "    print(city.group(1))\n",
    "    if 1 == 2:\n",
    "        break"
   ]
  },
  {
   "cell_type": "markdown",
   "id": "90fc2de5",
   "metadata": {},
   "source": [
    "# Port of discharge."
   ]
  },
  {
   "cell_type": "code",
   "execution_count": 25,
   "id": "930a5e25",
   "metadata": {},
   "outputs": [
    {
     "name": "stdout",
     "output_type": "stream",
     "text": [
      "VISAKHAPATNAM\n"
     ]
    }
   ],
   "source": [
    "pattern_loading = \"([A-Z]{8}\\,[A-Z]{5}\\s)([A-Z]{13})\"\n",
    "cities = re.finditer(pattern_loading , s1)\n",
    "for i , city in enumerate(cities):\n",
    "    print(city.group(2))\n",
    "    if 1 == 2:\n",
    "        break"
   ]
  },
  {
   "cell_type": "code",
   "execution_count": null,
   "id": "3d0e74c2",
   "metadata": {},
   "outputs": [],
   "source": []
  }
 ],
 "metadata": {
  "kernelspec": {
   "display_name": "Python 3 (ipykernel)",
   "language": "python",
   "name": "python3"
  },
  "language_info": {
   "codemirror_mode": {
    "name": "ipython",
    "version": 3
   },
   "file_extension": ".py",
   "mimetype": "text/x-python",
   "name": "python",
   "nbconvert_exporter": "python",
   "pygments_lexer": "ipython3",
   "version": "3.9.7"
  }
 },
 "nbformat": 4,
 "nbformat_minor": 5
}
