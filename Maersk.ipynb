{
 "cells": [
  {
   "cell_type": "markdown",
   "id": "b54a2f97",
   "metadata": {},
   "source": [
    "# Maersk"
   ]
  },
  {
   "cell_type": "code",
   "execution_count": null,
   "id": "f953fa00",
   "metadata": {},
   "outputs": [],
   "source": [
    "import pdfplumber\n",
    "import regex as re"
   ]
  },
  {
   "cell_type": "code",
   "execution_count": 3,
   "id": "d467dfe9",
   "metadata": {},
   "outputs": [],
   "source": [
    "data = pdfplumber.open(r\"C:\\Users\\DELL\\Desktop\\Pyplumber\\220132083.pdf\")"
   ]
  },
  {
   "cell_type": "code",
   "execution_count": 4,
   "id": "46f54e82",
   "metadata": {},
   "outputs": [
    {
     "data": {
      "text/plain": [
       "[<Page:1>, <Page:2>]"
      ]
     },
     "execution_count": 4,
     "metadata": {},
     "output_type": "execute_result"
    }
   ],
   "source": [
    "data.pages"
   ]
  },
  {
   "cell_type": "code",
   "execution_count": 5,
   "id": "cd7e1a8b",
   "metadata": {
    "scrolled": true
   },
   "outputs": [
    {
     "name": "stdout",
     "output_type": "stream",
     "text": [
      "NON-NEGOTIABLE WAYBILL SCAC MAEU\n",
      "B/L No. 220132083\n",
      "Shipper Booking No.\n",
      "UPCHEM(CHINA)CO.,LTD. 220132083\n",
      "NO 339, LVGU RD,\n",
      "Export references Svc Contract\n",
      "LISHUI ECONOMIC DEVELOPMENT ZONE,\n",
      "298391413\n",
      "LISHUI CITY, ZHEJIANG CHINA 323000,\n",
      "TAX ID:9133110060993070XH+\n",
      "Consignee\n",
      "DECCAN FINE CHEMICALS\n",
      "(INDIA)PRIVATE LIMITED\n",
      "This contract is subject to the terms, conditions and exceptions, including the law & jurisdiction clause\n",
      "KESAVARAM (VILLAGE), and limitation of liability & declared value clauses, of the current Maersk Bill of Lading (available from\n",
      "VENKATANAGARAM (PO), the Carrier, its agents and at terms.maersk.com/carriage), which are applicable with logical\n",
      "amendments (mutatis mutandis). To the extent necessary to enable the Consignee to sue and to be\n",
      "PAYAKARAOPETA (MANDAL),++ sued under this contract, the Shipper on entering into this contract does so on his own behalf and as\n",
      "agent for and on behalf of the Consignee and warrants that he has the authority to do so. The shipper\n",
      "shall be entitled to change the Consignee at any time before delivery of the goods provided he gives\n",
      "Notify Party (see clause 22) the Carrier reasonable notice in writing.\n",
      "DECCAN FINE CHEMICALS Delivery will be made to the Consignee or his authorised agent on production of reasonable proof of\n",
      "(INDIA)PRIVATE LIMITED identity (and, in the case of an agent, reasonable proof of authority) without production of this waybill.\n",
      "The Carrier shall be under no liability whatsoever for misdelivery unless caused by the Carrier's\n",
      "KESAVARAM (VILLAGE),\n",
      "negligence.\n",
      "VENKATANAGARAM (PO),\n",
      "PAYAKARAOPETA (MANDAL),+++ Onward inland routing (Not part of Carriage as defined in clause 1. For account and risk of Merchant)\n",
      "Vessel Voyage No. Place of Receipt. Applicable only when document used as Multimodal Waybill\n",
      "SANTA BARBARA 236S\n",
      "PSoHrt Aof NLoGadHinAgI PNohrta ovf Dai sSchhaergvea Place of Delivery. Applicable only when document used as Multimodal Transport B/L. (see clause 1)\n",
      "PARTICULARS FURNISHED BY SHIPPER\n",
      "Kind of Packages; Description of goods; Marks and Numbers;  Container No./Seal No. Weight Measurement\n",
      "53184.000 KGS 69.6000 CBM\n",
      "3 containers said to contain 240 DRUMS\n",
      "60 PALLETS CONTAINING 240 DRUMS ONLY (SIXTY PALLETS CONTAINING\n",
      "TWO HUNDRED FORTY DRUMS ONLY)\n",
      "PHENYL ISOCYANATE (CHINA)\n",
      "MATERIAL NO.:12000939\n",
      "P.O NO.: 14004328  CREATED 30.07.2022\n",
      "INVOICE NO.: UP139-17-01  DATED 22-AUGUST-2022\n",
      "UN NO.: 2487\n",
      "CLASS:6.1/3\n",
      "HS CODE: 29291090\n",
      "BATCH NO.: 20220822\n",
      "+EMAIL : 3-SALES@UPCHEM.COM\n",
      "++VISAKHAPATNAM - 531 127. A.P.\n",
      "TEL.91 40 43459999/ 76/\n",
      "FAX.914023601071\n",
      "GSTIN :37AACCD9205D1ZX\n",
      "Above particulars as declared by Shipper, but without responsibility of or representation by Carrier.\n",
      "Freight & Charges Rate Unit Currency Prepaid Collect\n",
      "Carrier's Receipt. Total number of containers or  Place of Issue of Waybill Shipped, as far as ascertained by reasonable means of checking, in apparent good order and condition\n",
      "packages received by Carrier. Shanghai unless otherwise stated herein the total number or quantity of Containers or other packages or units\n",
      "3 containers indicated in the box opposite entitled  “Carrier’s Receipt”\n",
      "Shipped on Board Date ( Local Time ) Date Issue of Waybill\n",
      "2022-09-10 2022-09-13\n",
      "Declared Value Charges (see clause 7.3 of the Maersk Bill of \n",
      "Lading) for Declared Value of US$\n",
      "Signed for the Carrier Maersk A/S\n",
      "This transport document has one or more numbered pages As Agent(s)\n",
      "B/L: 220132083 Page : 2\n",
      "IEC : 4608000071\n",
      "EMAIL :IMPORTS.TUNI@\n",
      "DECCANCHEMICALS.COM\n",
      "AEO-T1 CERTIFICATE\n",
      "NO.INAACCD9205D1F176\n",
      "+++VISAKHAPATNAM - 531 127. A.P.\n",
      "TEL.91 40 43459999/ 76/\n",
      "FAX.914023601071\n",
      "GSTIN :37AACCD9205D1ZX\n",
      "IEC : 4608000071\n",
      "EMAIL :IMPORTS.TUNI@\n",
      "DECCANCHEMICALS.COM\n",
      "AEO-T1 CERTIFICATE\n",
      "NO.INAACCD9205D1F176\n",
      "N/M\n",
      "PONU0545599  ML-CN2098475  20 DRY 8'6  80 DRUMS  17728.000 KGS  23.2000 CBM \n",
      "IMO Class: 6.1\n",
      "UN Number: 2487\n",
      "MRKU7893300  ML-CN2098424  20 DRY 8'6  80 DRUMS  17728.000 KGS  23.2000 CBM \n",
      "IMO Class: 6.1\n",
      "UN Number: 2487\n",
      "MRKU8582149  ML-CN2098476  20 DRY 8'6  80 DRUMS  17728.000 KGS  23.2000 CBM \n",
      "IMO Class: 6.1\n",
      "UN Number: 2487\n",
      "For India GST purposes, since destination country as per this document is India and for \n",
      "import into IndiatheMaersk Line India Pvt Ltd office located either in the same State or the \n",
      "nearest State with respect to the above referenced cargo drop-off location shall be the \n",
      "billing office to the Indian customer.\n",
      "SHIPPER'S LOAD, STOW, WEIGHT AND COUNT\n",
      "FREIGHT PREPAID\n",
      "APPLICABLE FREE TIME 10 DAYS DETENTION AT (PORT OF DISCHARGE / PLACE OF \n",
      "DELIVERY)\n",
      "CY/CY\n",
      "Freight & Charges Rate Unit Currency Prepaid Collect\n"
     ]
    }
   ],
   "source": [
    "s1 = \"\"\n",
    "for i in data.pages:\n",
    "    s1 = s1 + i.extract_text()\n",
    "    print(i.extract_text())"
   ]
  },
  {
   "cell_type": "code",
   "execution_count": 6,
   "id": "11aa3186",
   "metadata": {
    "scrolled": true
   },
   "outputs": [
    {
     "name": "stdout",
     "output_type": "stream",
     "text": [
      "NON-NEGOTIABLE WAYBILL SCAC MAEU\n",
      "B/L No. 220132083\n",
      "Shipper Booking No.\n",
      "UPCHEM(CHINA)CO.,LTD. 220132083\n",
      "NO 339, LVGU RD,\n",
      "Export references Svc Contract\n",
      "LISHUI ECONOMIC DEVELOPMENT ZONE,\n",
      "298391413\n",
      "LISHUI CITY, ZHEJIANG CHINA 323000,\n",
      "TAX ID:9133110060993070XH+\n",
      "Consignee\n",
      "DECCAN FINE CHEMICALS\n",
      "(INDIA)PRIVATE LIMITED\n",
      "This contract is subject to the terms, conditions and exceptions, including the law & jurisdiction clause\n",
      "KESAVARAM (VILLAGE), and limitation of liability & declared value clauses, of the current Maersk Bill of Lading (available from\n",
      "VENKATANAGARAM (PO), the Carrier, its agents and at terms.maersk.com/carriage), which are applicable with logical\n",
      "amendments (mutatis mutandis). To the extent necessary to enable the Consignee to sue and to be\n",
      "PAYAKARAOPETA (MANDAL),++ sued under this contract, the Shipper on entering into this contract does so on his own behalf and as\n",
      "agent for and on behalf of the Consignee and warrants that he has the authority to do so. The shipper\n",
      "shall be entitled to change the Consignee at any time before delivery of the goods provided he gives\n",
      "Notify Party (see clause 22) the Carrier reasonable notice in writing.\n",
      "DECCAN FINE CHEMICALS Delivery will be made to the Consignee or his authorised agent on production of reasonable proof of\n",
      "(INDIA)PRIVATE LIMITED identity (and, in the case of an agent, reasonable proof of authority) without production of this waybill.\n",
      "The Carrier shall be under no liability whatsoever for misdelivery unless caused by the Carrier's\n",
      "KESAVARAM (VILLAGE),\n",
      "negligence.\n",
      "VENKATANAGARAM (PO),\n",
      "PAYAKARAOPETA (MANDAL),+++ Onward inland routing (Not part of Carriage as defined in clause 1. For account and risk of Merchant)\n",
      "Vessel Voyage No. Place of Receipt. Applicable only when document used as Multimodal Waybill\n",
      "SANTA BARBARA 236S\n",
      "PSoHrt Aof NLoGadHinAgI PNohrta ovf Dai sSchhaergvea Place of Delivery. Applicable only when document used as Multimodal Transport B/L. (see clause 1)\n",
      "PARTICULARS FURNISHED BY SHIPPER\n",
      "Kind of Packages; Description of goods; Marks and Numbers;  Container No./Seal No. Weight Measurement\n",
      "53184.000 KGS 69.6000 CBM\n",
      "3 containers said to contain 240 DRUMS\n",
      "60 PALLETS CONTAINING 240 DRUMS ONLY (SIXTY PALLETS CONTAINING\n",
      "TWO HUNDRED FORTY DRUMS ONLY)\n",
      "PHENYL ISOCYANATE (CHINA)\n",
      "MATERIAL NO.:12000939\n",
      "P.O NO.: 14004328  CREATED 30.07.2022\n",
      "INVOICE NO.: UP139-17-01  DATED 22-AUGUST-2022\n",
      "UN NO.: 2487\n",
      "CLASS:6.1/3\n",
      "HS CODE: 29291090\n",
      "BATCH NO.: 20220822\n",
      "+EMAIL : 3-SALES@UPCHEM.COM\n",
      "++VISAKHAPATNAM - 531 127. A.P.\n",
      "TEL.91 40 43459999/ 76/\n",
      "FAX.914023601071\n",
      "GSTIN :37AACCD9205D1ZX\n",
      "Above particulars as declared by Shipper, but without responsibility of or representation by Carrier.\n",
      "Freight & Charges Rate Unit Currency Prepaid Collect\n",
      "Carrier's Receipt. Total number of containers or  Place of Issue of Waybill Shipped, as far as ascertained by reasonable means of checking, in apparent good order and condition\n",
      "packages received by Carrier. Shanghai unless otherwise stated herein the total number or quantity of Containers or other packages or units\n",
      "3 containers indicated in the box opposite entitled  “Carrier’s Receipt”\n",
      "Shipped on Board Date ( Local Time ) Date Issue of Waybill\n",
      "2022-09-10 2022-09-13\n",
      "Declared Value Charges (see clause 7.3 of the Maersk Bill of \n",
      "Lading) for Declared Value of US$\n",
      "Signed for the Carrier Maersk A/S\n",
      "This transport document has one or more numbered pages As Agent(s)B/L: 220132083 Page : 2\n",
      "IEC : 4608000071\n",
      "EMAIL :IMPORTS.TUNI@\n",
      "DECCANCHEMICALS.COM\n",
      "AEO-T1 CERTIFICATE\n",
      "NO.INAACCD9205D1F176\n",
      "+++VISAKHAPATNAM - 531 127. A.P.\n",
      "TEL.91 40 43459999/ 76/\n",
      "FAX.914023601071\n",
      "GSTIN :37AACCD9205D1ZX\n",
      "IEC : 4608000071\n",
      "EMAIL :IMPORTS.TUNI@\n",
      "DECCANCHEMICALS.COM\n",
      "AEO-T1 CERTIFICATE\n",
      "NO.INAACCD9205D1F176\n",
      "N/M\n",
      "PONU0545599  ML-CN2098475  20 DRY 8'6  80 DRUMS  17728.000 KGS  23.2000 CBM \n",
      "IMO Class: 6.1\n",
      "UN Number: 2487\n",
      "MRKU7893300  ML-CN2098424  20 DRY 8'6  80 DRUMS  17728.000 KGS  23.2000 CBM \n",
      "IMO Class: 6.1\n",
      "UN Number: 2487\n",
      "MRKU8582149  ML-CN2098476  20 DRY 8'6  80 DRUMS  17728.000 KGS  23.2000 CBM \n",
      "IMO Class: 6.1\n",
      "UN Number: 2487\n",
      "For India GST purposes, since destination country as per this document is India and for \n",
      "import into IndiatheMaersk Line India Pvt Ltd office located either in the same State or the \n",
      "nearest State with respect to the above referenced cargo drop-off location shall be the \n",
      "billing office to the Indian customer.\n",
      "SHIPPER'S LOAD, STOW, WEIGHT AND COUNT\n",
      "FREIGHT PREPAID\n",
      "APPLICABLE FREE TIME 10 DAYS DETENTION AT (PORT OF DISCHARGE / PLACE OF \n",
      "DELIVERY)\n",
      "CY/CY\n",
      "Freight & Charges Rate Unit Currency Prepaid Collect\n"
     ]
    }
   ],
   "source": [
    "print(s1)"
   ]
  },
  {
   "cell_type": "code",
   "execution_count": 7,
   "id": "5971704d",
   "metadata": {},
   "outputs": [
    {
     "data": {
      "text/plain": [
       "['NON-NEGOTIABLE WAYBILL SCAC MAEU',\n",
       " 'B/L No. 220132083',\n",
       " 'Shipper Booking No.',\n",
       " 'UPCHEM(CHINA)CO.,LTD. 220132083',\n",
       " 'NO 339, LVGU RD,',\n",
       " 'Export references Svc Contract',\n",
       " 'LISHUI ECONOMIC DEVELOPMENT ZONE,',\n",
       " '298391413',\n",
       " 'LISHUI CITY, ZHEJIANG CHINA 323000,',\n",
       " 'TAX ID:9133110060993070XH+',\n",
       " 'Consignee',\n",
       " 'DECCAN FINE CHEMICALS',\n",
       " '(INDIA)PRIVATE LIMITED',\n",
       " 'This contract is subject to the terms, conditions and exceptions, including the law & jurisdiction clause',\n",
       " 'KESAVARAM (VILLAGE), and limitation of liability & declared value clauses, of the current Maersk Bill of Lading (available from',\n",
       " 'VENKATANAGARAM (PO), the Carrier, its agents and at terms.maersk.com/carriage), which are applicable with logical',\n",
       " 'amendments (mutatis mutandis). To the extent necessary to enable the Consignee to sue and to be',\n",
       " 'PAYAKARAOPETA (MANDAL),++ sued under this contract, the Shipper on entering into this contract does so on his own behalf and as',\n",
       " 'agent for and on behalf of the Consignee and warrants that he has the authority to do so. The shipper',\n",
       " 'shall be entitled to change the Consignee at any time before delivery of the goods provided he gives',\n",
       " 'Notify Party (see clause 22) the Carrier reasonable notice in writing.',\n",
       " 'DECCAN FINE CHEMICALS Delivery will be made to the Consignee or his authorised agent on production of reasonable proof of',\n",
       " '(INDIA)PRIVATE LIMITED identity (and, in the case of an agent, reasonable proof of authority) without production of this waybill.',\n",
       " \"The Carrier shall be under no liability whatsoever for misdelivery unless caused by the Carrier's\",\n",
       " 'KESAVARAM (VILLAGE),',\n",
       " 'negligence.',\n",
       " 'VENKATANAGARAM (PO),',\n",
       " 'PAYAKARAOPETA (MANDAL),+++ Onward inland routing (Not part of Carriage as defined in clause 1. For account and risk of Merchant)',\n",
       " 'Vessel Voyage No. Place of Receipt. Applicable only when document used as Multimodal Waybill',\n",
       " 'SANTA BARBARA 236S',\n",
       " 'PSoHrt Aof NLoGadHinAgI PNohrta ovf Dai sSchhaergvea Place of Delivery. Applicable only when document used as Multimodal Transport B/L. (see clause 1)',\n",
       " 'PARTICULARS FURNISHED BY SHIPPER',\n",
       " 'Kind of Packages; Description of goods; Marks and Numbers;  Container No./Seal No. Weight Measurement',\n",
       " '53184.000 KGS 69.6000 CBM',\n",
       " '3 containers said to contain 240 DRUMS',\n",
       " '60 PALLETS CONTAINING 240 DRUMS ONLY (SIXTY PALLETS CONTAINING',\n",
       " 'TWO HUNDRED FORTY DRUMS ONLY)',\n",
       " 'PHENYL ISOCYANATE (CHINA)',\n",
       " 'MATERIAL NO.:12000939',\n",
       " 'P.O NO.: 14004328  CREATED 30.07.2022',\n",
       " 'INVOICE NO.: UP139-17-01  DATED 22-AUGUST-2022',\n",
       " 'UN NO.: 2487',\n",
       " 'CLASS:6.1/3',\n",
       " 'HS CODE: 29291090',\n",
       " 'BATCH NO.: 20220822',\n",
       " '+EMAIL : 3-SALES@UPCHEM.COM',\n",
       " '++VISAKHAPATNAM - 531 127. A.P.',\n",
       " 'TEL.91 40 43459999/ 76/',\n",
       " 'FAX.914023601071',\n",
       " 'GSTIN :37AACCD9205D1ZX',\n",
       " 'Above particulars as declared by Shipper, but without responsibility of or representation by Carrier.',\n",
       " 'Freight & Charges Rate Unit Currency Prepaid Collect',\n",
       " \"Carrier's Receipt. Total number of containers or  Place of Issue of Waybill Shipped, as far as ascertained by reasonable means of checking, in apparent good order and condition\",\n",
       " 'packages received by Carrier. Shanghai unless otherwise stated herein the total number or quantity of Containers or other packages or units',\n",
       " '3 containers indicated in the box opposite entitled  “Carrier’s Receipt”',\n",
       " 'Shipped on Board Date ( Local Time ) Date Issue of Waybill',\n",
       " '2022-09-10 2022-09-13',\n",
       " 'Declared Value Charges (see clause 7.3 of the Maersk Bill of ',\n",
       " 'Lading) for Declared Value of US$',\n",
       " 'Signed for the Carrier Maersk A/S',\n",
       " 'This transport document has one or more numbered pages As Agent(s)B/L: 220132083 Page : 2',\n",
       " 'IEC : 4608000071',\n",
       " 'EMAIL :IMPORTS.TUNI@',\n",
       " 'DECCANCHEMICALS.COM',\n",
       " 'AEO-T1 CERTIFICATE',\n",
       " 'NO.INAACCD9205D1F176',\n",
       " '+++VISAKHAPATNAM - 531 127. A.P.',\n",
       " 'TEL.91 40 43459999/ 76/',\n",
       " 'FAX.914023601071',\n",
       " 'GSTIN :37AACCD9205D1ZX',\n",
       " 'IEC : 4608000071',\n",
       " 'EMAIL :IMPORTS.TUNI@',\n",
       " 'DECCANCHEMICALS.COM',\n",
       " 'AEO-T1 CERTIFICATE',\n",
       " 'NO.INAACCD9205D1F176',\n",
       " 'N/M',\n",
       " \"PONU0545599  ML-CN2098475  20 DRY 8'6  80 DRUMS  17728.000 KGS  23.2000 CBM \",\n",
       " 'IMO Class: 6.1',\n",
       " 'UN Number: 2487',\n",
       " \"MRKU7893300  ML-CN2098424  20 DRY 8'6  80 DRUMS  17728.000 KGS  23.2000 CBM \",\n",
       " 'IMO Class: 6.1',\n",
       " 'UN Number: 2487',\n",
       " \"MRKU8582149  ML-CN2098476  20 DRY 8'6  80 DRUMS  17728.000 KGS  23.2000 CBM \",\n",
       " 'IMO Class: 6.1',\n",
       " 'UN Number: 2487',\n",
       " 'For India GST purposes, since destination country as per this document is India and for ',\n",
       " 'import into IndiatheMaersk Line India Pvt Ltd office located either in the same State or the ',\n",
       " 'nearest State with respect to the above referenced cargo drop-off location shall be the ',\n",
       " 'billing office to the Indian customer.',\n",
       " \"SHIPPER'S LOAD, STOW, WEIGHT AND COUNT\",\n",
       " 'FREIGHT PREPAID',\n",
       " 'APPLICABLE FREE TIME 10 DAYS DETENTION AT (PORT OF DISCHARGE / PLACE OF ',\n",
       " 'DELIVERY)',\n",
       " 'CY/CY',\n",
       " 'Freight & Charges Rate Unit Currency Prepaid Collect']"
      ]
     },
     "execution_count": 7,
     "metadata": {},
     "output_type": "execute_result"
    }
   ],
   "source": [
    "s1.split(\"\\n\")"
   ]
  },
  {
   "cell_type": "markdown",
   "id": "2ce85bd4",
   "metadata": {},
   "source": [
    "# B/L N0:"
   ]
  },
  {
   "cell_type": "code",
   "execution_count": 8,
   "id": "e33e2d93",
   "metadata": {},
   "outputs": [],
   "source": [
    "s2 = []\n",
    "for i in s1.split(\"\\n\"):\n",
    "    if \"B/L No.\" in i:\n",
    "        s2.append(i)"
   ]
  },
  {
   "cell_type": "code",
   "execution_count": 9,
   "id": "313c80f2",
   "metadata": {},
   "outputs": [
    {
     "data": {
      "text/plain": [
       "['B/L No. 220132083']"
      ]
     },
     "execution_count": 9,
     "metadata": {},
     "output_type": "execute_result"
    }
   ],
   "source": [
    "s2"
   ]
  },
  {
   "cell_type": "code",
   "execution_count": 11,
   "id": "ea0361ed",
   "metadata": {},
   "outputs": [
    {
     "data": {
      "text/plain": [
       "['B/L No. 220132083']"
      ]
     },
     "execution_count": 11,
     "metadata": {},
     "output_type": "execute_result"
    }
   ],
   "source": [
    "pattern_BL = \"B/L No.\\s\\d+\"\n",
    "re.findall(pattern_BL,s1)"
   ]
  },
  {
   "cell_type": "markdown",
   "id": "3719c786",
   "metadata": {},
   "source": [
    "# Container numbers:"
   ]
  },
  {
   "cell_type": "code",
   "execution_count": 14,
   "id": "3311f509",
   "metadata": {},
   "outputs": [
    {
     "data": {
      "text/plain": [
       "['ML-CN2098475', 'ML-CN2098424', 'ML-CN2098476']"
      ]
     },
     "execution_count": 14,
     "metadata": {},
     "output_type": "execute_result"
    }
   ],
   "source": [
    "pattern_container = \"[A-Z]{2}-[A-Z]{2}\\d+\"\n",
    "re.findall(pattern_container , s1)"
   ]
  },
  {
   "cell_type": "markdown",
   "id": "0b654eea",
   "metadata": {},
   "source": [
    "# Shipped on board date , Date issue of waybill"
   ]
  },
  {
   "cell_type": "code",
   "execution_count": 16,
   "id": "50c9f496",
   "metadata": {},
   "outputs": [
    {
     "data": {
      "text/plain": [
       "['2022-09-10', '2022-09-13']"
      ]
     },
     "execution_count": 16,
     "metadata": {},
     "output_type": "execute_result"
    }
   ],
   "source": [
    "pattern_date = \"\\d{4}-\\d{2}-\\d{2}\"\n",
    "re.findall(pattern_date,s1)"
   ]
  },
  {
   "cell_type": "markdown",
   "id": "3d1a5413",
   "metadata": {},
   "source": [
    "# vessel and voyage no."
   ]
  },
  {
   "cell_type": "code",
   "execution_count": 23,
   "id": "aa9bbe53",
   "metadata": {},
   "outputs": [
    {
     "data": {
      "text/plain": [
       "['SANTA BARBARA 236S']"
      ]
     },
     "execution_count": 23,
     "metadata": {},
     "output_type": "execute_result"
    }
   ],
   "source": [
    "pattern_vessel = \"[A-Z]{5}\\s[A-Z]{7}\\s\\d{3}[A-Z]\"\n",
    "re.findall(pattern_vessel,s1)"
   ]
  },
  {
   "cell_type": "code",
   "execution_count": null,
   "id": "b28c3958",
   "metadata": {},
   "outputs": [],
   "source": []
  },
  {
   "cell_type": "code",
   "execution_count": null,
   "id": "fe6af220",
   "metadata": {},
   "outputs": [],
   "source": []
  },
  {
   "cell_type": "code",
   "execution_count": null,
   "id": "6a2b5992",
   "metadata": {},
   "outputs": [],
   "source": []
  },
  {
   "cell_type": "code",
   "execution_count": null,
   "id": "5455d811",
   "metadata": {},
   "outputs": [],
   "source": []
  }
 ],
 "metadata": {
  "kernelspec": {
   "display_name": "Python 3 (ipykernel)",
   "language": "python",
   "name": "python3"
  },
  "language_info": {
   "codemirror_mode": {
    "name": "ipython",
    "version": 3
   },
   "file_extension": ".py",
   "mimetype": "text/x-python",
   "name": "python",
   "nbconvert_exporter": "python",
   "pygments_lexer": "ipython3",
   "version": "3.9.7"
  }
 },
 "nbformat": 4,
 "nbformat_minor": 5
}
